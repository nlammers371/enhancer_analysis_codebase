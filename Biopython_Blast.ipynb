{
 "cells": [
  {
   "cell_type": "code",
   "execution_count": 4,
   "metadata": {},
   "outputs": [
    {
     "name": "stdout",
     "output_type": "stream",
     "text": [
      "/Users/giana.cirolia/anaconda3/bin/python\r\n"
     ]
    }
   ],
   "source": [
    "# check installation of python \n",
    "! which python"
   ]
  },
  {
   "cell_type": "code",
   "execution_count": 7,
   "metadata": {},
   "outputs": [
    {
     "name": "stdout",
     "output_type": "stream",
     "text": [
      "/Users/giana.cirolia/anaconda3/bin/pip\r\n"
     ]
    }
   ],
   "source": [
    "# check installation of pip\n",
    "! which pip"
   ]
  },
  {
   "cell_type": "code",
   "execution_count": 6,
   "metadata": {},
   "outputs": [
    {
     "name": "stdout",
     "output_type": "stream",
     "text": [
      "Collecting pip\n",
      "\u001b[?25l  Downloading https://files.pythonhosted.org/packages/54/eb/4a3642e971f404d69d4f6fa3885559d67562801b99d7592487f1ecc4e017/pip-20.3.3-py2.py3-none-any.whl (1.5MB)\n",
      "\u001b[K    100% |████████████████████████████████| 1.5MB 1.7MB/s ta 0:00:01\n",
      "\u001b[?25hInstalling collected packages: pip\n",
      "  Found existing installation: pip 19.0.3\n",
      "    Uninstalling pip-19.0.3:\n",
      "      Successfully uninstalled pip-19.0.3\n",
      "Successfully installed pip-20.3.3\n"
     ]
    }
   ],
   "source": [
    "# upgrade pip if needed \n",
    "! pip install --upgrade pip"
   ]
  },
  {
   "cell_type": "code",
   "execution_count": 5,
   "metadata": {},
   "outputs": [
    {
     "name": "stdout",
     "output_type": "stream",
     "text": [
      "Requirement already satisfied: biopython in /Users/giana.cirolia/anaconda3/lib/python3.6/site-packages (1.72)\n",
      "Requirement already satisfied: numpy in /Users/giana.cirolia/anaconda3/lib/python3.6/site-packages (from biopython) (1.15.1)\n",
      "\u001b[33mYou are using pip version 19.0.3, however version 20.3.3 is available.\n",
      "You should consider upgrading via the 'pip install --upgrade pip' command.\u001b[0m\n"
     ]
    }
   ],
   "source": [
    "# install biopython\n",
    "! pip install biopython"
   ]
  },
  {
   "cell_type": "code",
   "execution_count": 10,
   "metadata": {},
   "outputs": [
    {
     "name": "stdout",
     "output_type": "stream",
     "text": [
      "Requirement already satisfied: biopython in /Users/giana.cirolia/anaconda3/lib/python3.6/site-packages (1.72)\n",
      "Collecting biopython\n",
      "  Downloading biopython-1.78-cp36-cp36m-macosx_10_9_x86_64.whl (2.2 MB)\n",
      "\u001b[K     |████████████████████████████████| 2.2 MB 1.2 MB/s eta 0:00:01\n",
      "\u001b[?25hRequirement already satisfied: numpy in /Users/giana.cirolia/anaconda3/lib/python3.6/site-packages (from biopython) (1.15.1)\n",
      "Installing collected packages: biopython\n",
      "  Attempting uninstall: biopython\n",
      "    Found existing installation: biopython 1.72\n",
      "    Uninstalling biopython-1.72:\n",
      "      Successfully uninstalled biopython-1.72\n",
      "Successfully installed biopython-1.78\n"
     ]
    }
   ],
   "source": [
    "# upgrade biopython if needed \n",
    "\n",
    "! pip install biopython --upgrade"
   ]
  },
  {
   "cell_type": "code",
   "execution_count": 13,
   "metadata": {},
   "outputs": [
    {
     "name": "stdout",
     "output_type": "stream",
     "text": [
      "1.78\n"
     ]
    }
   ],
   "source": [
    "# import biopython and check import\n",
    "import Bio\n",
    "print(Bio.__version__)"
   ]
  },
  {
   "cell_type": "code",
   "execution_count": null,
   "metadata": {
    "collapsed": true
   },
   "outputs": [],
   "source": [
    "## dowload fasta files and concatenate into one file\n",
    "## examples\n",
    "## ! cat sequences/fasta1.fa sequences/fasta2.fa sequences/combined.fa "
   ]
  },
  {
   "cell_type": "code",
   "execution_count": 126,
   "metadata": {
    "collapsed": true
   },
   "outputs": [],
   "source": [
    "## to parse ids for make db need 1) unique entries 2) names to not have blank spaces and other characters/less than 50 long\n",
    "## for these files, we are keeping all alpha numberics and removing the end isolate number and linking names with \"-\"\n",
    "! sed 's/[^a-zA-Z0-9>_]/-/g; s/---isolate.*//' sequences/genomes.fasta > sequences/genomes_modified.fasta"
   ]
  },
  {
   "cell_type": "code",
   "execution_count": 128,
   "metadata": {},
   "outputs": [
    {
     "name": "stdout",
     "output_type": "stream",
     "text": [
      "       0\r\n"
     ]
    }
   ],
   "source": [
    "## some fasta files may still have duplicates and this will cause an error in make db, therefore we need to remove duplicates fasta files\n",
    "## this can be done in 2 steps\n",
    "## step 1) evaluate sequences/test_genomes_modified.fasta for duplicates and count if there are duplicates. \n",
    "! cat sequences/genomes_modified.fasta | grep '^>' | sort | uniq -d | wc -l "
   ]
  },
  {
   "cell_type": "code",
   "execution_count": 18,
   "metadata": {},
   "outputs": [
    {
     "name": "stdout",
     "output_type": "stream",
     "text": [
      "    2552\r\n"
     ]
    }
   ],
   "source": [
    "## total sequences with duplicates \n",
    "! cat sequences/test_genomes.fasta | grep \">\" | wc -l"
   ]
  },
  {
   "cell_type": "code",
   "execution_count": 112,
   "metadata": {
    "collapsed": true
   },
   "outputs": [],
   "source": [
    "## if duplicates \n",
    "## step 2) get a list of entries with duplicates removed to filter the fasta file for unique entries. \n",
    "\n",
    "! cat sequences/test_genomes_modified.fasta | grep '^>' | sort | uniq -c | awk -F' ' '{print $2}' | cut -c 2- > sequences/unique_entries.txt\n"
   ]
  },
  {
   "cell_type": "code",
   "execution_count": 116,
   "metadata": {},
   "outputs": [
    {
     "name": "stdout",
     "output_type": "stream",
     "text": [
      "    2077\n",
      "contig_1--organism-Chymomyza-costata\n",
      "contig_1--organism-Drosophila-mauritiana\n",
      "contig_1--organism-Drosophila-sechellia\n",
      "contig_1--organism-Drosophila-simulans\n",
      "contig_10--organism-Chymomyza-costata\n",
      "contig_10--organism-Drosophila-mauritiana\n",
      "contig_10--organism-Drosophila-sechellia\n",
      "contig_10--organism-Drosophila-simulans\n",
      "contig_100--organism-Chymomyza-costata\n",
      "contig_100--organism-Drosophila-mauritiana\n",
      "duplicates removed, 1 ontig per organism\n"
     ]
    }
   ],
   "source": [
    "## check that you have removed duplicated entries, total sequences - duplicate entries should equal # fasta headers in file\n",
    "!  cat sequences/unique_entries.txt | wc -l\n",
    "! head sequences/unique_entries.txt\n",
    "\n",
    "if 2552 - 475 == 2077:\n",
    "    print(\"duplicates removed, 1 contig per organism\")"
   ]
  },
  {
   "cell_type": "code",
   "execution_count": null,
   "metadata": {
    "collapsed": true
   },
   "outputs": [],
   "source": [
    "## now with unique entries you can use filter your original fasta file for only the non duplicated entries \n",
    "## to do this you will need homebrew to execute the commad\n",
    "! brew install seqtk"
   ]
  },
  {
   "cell_type": "code",
   "execution_count": 102,
   "metadata": {},
   "outputs": [
    {
     "name": "stdout",
     "output_type": "stream",
     "text": [
      ">contig_1--organism-Drosophila-mauritiana\r\n",
      "gattccgagacagaaaagtcaacatgagccatacgctcacctggtctatactgaatatcaaattcgaaagattgcatgta\r\n",
      "cgaccaccactctatgaactctaaaggtcagttctatctttgtgggatgaggctttaagcgaattgcaatcagtaaacac\r\n",
      "aacaaaatgacggccatgcaagtaatggcgaaagtgttttatagaattcggtatacgcgattctgctgaagatgtcatct\r\n",
      "gctaaaatatttcgataactcgcggcttctgttcaatccggtgcagcgaaaatagtgccgtagccgacagaatcaaggcg\r\n",
      "tctgtgtggagcttcgatagaaaattgtgggtcgaatatagtaaggggacaggttcgttagttaaaatagatattacttt\r\n",
      "ttgccgtatttgttcatgctcaatttcacaaaaatgacccgctctttgaagtaaaggcgtaaagagggtttcacttcagt\r\n",
      "cagaaaacttgggtacaaattgtcgaaaatacgagcatcagctccaataaacgtctcaacagaaagtgacggactgggtg\r\n",
      "gaggtggcaaattcgaaagggtcgaattttcctgacggccgaatctcaccttgacttaactcgaaacccaaatattcaac\r\n",
      "acaagacttgagaaaggaacattttgtaatattaaaagaaaatccagcatgcgtaagtgcttttcttgcagtaattactc\r\n",
      "tcgcaatctatcaaaaagcttctttttgtgacgtctcaattatcattacgtcatccatataaataatggcatacgaatgg\r\n",
      "gtaagatcacctaaggcacgattaatagtttcttggaatatgaaggtgcattcttaagctccgaatggcatagtccagta\r\n",
      "ttcgcattggccttcaggagtaaataaaatgccgttcggctcgactgaattcgggtgaattgggatctggtgaaacctgc\r\n",
      "tgccaaggcgttcaatacagctgaaaaacccagcaccattcagcctggctatttgatcagaaattagcggcaaaaggtac\r\n",
      "ccgtctggaaacggtatttgcatttagccttctataatccatttggtgaggcggtcagtaccattttttcggacaagtaa\r\n",
      "cattgggctcgcaaagggggaggaaactgggtctaataatgtttgattctaacaaccgttgaattaaatgccgaactttt\r\n",
      "tccttctcctctacactcaacctatatgggcgcctttgaaccgtcttattctgatcaatcaagcgaatttctaactggcc\r\n",
      "cgtggtcacacggcttagtggaattttacttatgaatgaccctgaatattcttggtagtattgacaacaattggtatcga\r\n",
      "tcaggtccacgcaaatcggtgtcaatattagctaaatcgggattcttttcggaaatctcaacagacaatatagatttttc\r\n",
      "gttaaacatagtaagagattttgatgttattgtcacactgactccctggctcaaaatatctcgaccaatcagagcgtcat\r\n",
      "acttaatataattgttcatcaattatacgggaaacaatatatttcatatgagcgttcaactatcaaaacattagctaata\r\n",
      "cctgcaaagtgcaacaaaatagtattgttacctcagacttcttaaaataactacgttgcccattcctggatccagatagt\r\n",
      "ctctgcgaaatgtagcctccttatgagtgaacactcggcccagaatcaaaacaaaaaattggaacgactacccagattgc\r\n",
      "gaaaacgttccctacgggctcaaaacggtacagatgttgacatcttaacaatgttatttttgctagacgatgaacgctcc\r\n",
      "tgacgatcccagggacatacggtagagatgtgtccagcttttccgcagttgaaacaagtcaaagtagaccggtctttccc\r\n",
      "ccatggttgcctgccggtggcacgtactgccactgttttgatcgacaatccgcctttttatgaccaggctttccgcagtt\r\n",
      "gtgacacttgaagtagggcttagctcgttttcctggcggctctgatgtaccatcgtttggaaggtggctcggtctagcgt\r\n",
      "cgaatgaataggcctttagttcttggtgcagctcgttccgagtgcgttgatgtcggaagcgaaaactaaacgccgcgaaa\r\n",
      "cgcctgtcaattccagctgcatgcaccagtgtaacggagtgactgcgatttgctccacgctcagcgtcttccatttggcc\r\n",
      "ataagcgaagtaaatcattcggcttcctatgtaacgacaggcactcgccttctgcagggcgtccattttagcagattcat\r\n",
      "cactgctgccgttaatgtttctgttcccgcaaaatgttgcaaaaacaatctcggaatcaggctatgatataccaggaaag\r\n",
      "caagtctgtggtatcaaagccaatgagacgcgcttccttccagtgatttgggtggttaagggtcattatcacaagagcgc\r\n",
      "gtcttccagttggttttcggacaagatgtagtccaccgttgaacaccaggatttctgcgcatcttgatccgcaatgttca\r\n",
      "ggattaaacctggcaataccacagcaaacgatttcggactttctttgtgaggtgttgcaatctttgttttaaaagttcga\r\n",
      "aaatggcgattttatgacccaaaattgtcagcaaactattttcattgtccacatgtataggcgatcccacttcttgatgt\r\n",
      "cgaagagtcatcaggatgccctcttcctcttcactactctcaagcgctacggctctcgcctgacgtttctggcgtgcttg\r\n",
      "agcgaagcatgtctgttatgcgcaaacgatcgaaaaccgactgactgatctcttcttcacaaaaatcagaattatgtagt\r\n",
      "tcttgacttttaacatgcaataccaacacacaattatgcaatagttgttctagtccgcattcaccaatacttatactgca\r\n",
      "ttttttgtatgcttctcgttttcgtacagacatctacttcccccgctcctacccgcgaccagactacgttcggcagaaac\r\n",
      "tctaacggttgtctgccgcgcatcagaaaataaaaaagagacgcctgcatggcgcgtgccggcgctgaaacacgaaattg\r\n",
      "cgtctcatttaaatgatctgcgaGCCAcggccttcctgacctatcacggtcctcgtgtgctaacggtctctcaatattaa\r\n",
      "acagaatctttcaaagcctttttttttttctttcaaaatataaagttattcttcattcttttctactttaaatcaaacca\r\n",
      "atacaaatatttagaacatttcatttattacatttaagccatgagaaccatgagaggactaccatcagctttcaatcaaa\r\n",
      "caatcctaattttgtccttcttcaaacataaatcgttaccgttcttgattttcaatacagtttctactaacgcacagttt\r\n",
      "tcaaaccggctctgtccatctttgttagcctaagcttacgcttgcaactcgacaatccggccaacatacgtggcacccag\r\n",
      "atgacgcagtctataagccggccaactaactccaccaccaaaccgttaccaaatttaagcttaactccaacaaaatggcg\r\n",
      "aaccactctaactcgggcacccatgaggtagagaaagtcgcatttggaaaaggtccgggaggtctacaaattttttagtg\r\n",
      "ttctcaagatcacagccctcactggcttgataactggcatcttctgtgccttcatcttcaaacactgtggtaatccctct\r\n",
      "tctcgaggcatacatcgcaaagattcatgagaatatttataagttcggttattatttaatgccttgagtttatacgatct\r\n",
      "cctggtaatacttcggccactacaaatggaccttttaaacttagatctaatttggtctggtgacgcctttcatttttaag\r\n",
      "taaaacatggtctcctagcttgtgtcttacaatagtggcttgtttttatcgaatctagctttactggttcttggcattct\r\n",
      "tttccatgttgcgttttgctatttctctaactaagccaacatcgacaatattttgttcttttacaacaggtgtaagccca\r\n",
      "aatggccccgcttctctgccaataagtatcgctaatggactgactttagtaactctattgggcgtgctattaagagccag\r\n",
      "ctggaatctcatatgaaagaatcctgccacgatcctgggccagtttcaaccgcagtcagcatggaccttagagtactcat\r\n",
      "gactcgctccacttggccattggcaatgactagagcacctgtggtactaaatgtaaccattttctctgtgctggagcaga\r\n",
      "aatcacggaaagctgaactagcaaaactacgaccttgatcagcaataagtcgggaggggacaccgaataatgatataaca\r\n",
      "gacctcactgttttcaatgcaccatttggtgtctagcttcagtatgagagagatagacaaatttggtaaaatgcgtctat\r\n",
      "catcacaattatatactccttctggtcgctttttccgctaagtttacctgtaatatccacatgaaccgtatgccacggga\r\n",
      "tgtcaattttaggaatgggatggagttcggattgtattttgccagacggaggttttgataatctacaagtgatacagttg\r\n",
      "tccacaaattggcgaacatacttagacattttatcgaaccaatagaactcgtacattttctcaagagttttctccgaccc\r\n",
      "gagatgcataactgactcgtgtacgttgttgacagcgtggaccacctaaactgctttgggattaagggcagacatcgagt\r\n",
      "ctttccatttctttgaatttttcggtacagagttccagaccgtagttcataagtcttggccaa\r\n",
      ">contig_2--organism-Drosophila-mauritiana\r\n",
      "GAAAAGGCTAAGATGATAAAACCATCGCATTTAAACGAAATCGTTCTAAAGTGGTTGGAGTTATTCAAATACAAGAAATG\r\n",
      "TCGCTTAACTTGAAACTTTTGTTCGGATTCATAACCACATATTGACATTTAACCCATAAAAATCGTGTATTTAAGCAACT\r\n",
      "TATATATTCAGCCACTTTTTACAGTACTCCGGTGAAAAGCCTGGTGATGATAAAACTACCGGTTAAAACAAAATTCGTTT\r\n",
      "TACAGTGGGTGGGTAATCAAATGCAAGAAATGTCGTAAATTGAAACCCTTGTTTGGATTCATTTCCATATATTGACATTT\r\n",
      "GACCCCAATGTCAGTCATGACAACTTAATATTCAGTCCACTGGTTTAGTAACTCGGTGAAAATCTCGTGATGAAAAACCA\r\n",
      "TCGGTTAAAACGAAATCGTCTTTACAGTGTTTGGAGTTATTCAAATACAAGATATGTCGTTTAATTGAAATTTGTTCGAT\r\n",
      "TCATAATCATTTGACCAATTTCAAAATCGTGTATTTACAACTTATATATTCAGCCAATTTCGTTTAGTAATCTGGTGAAA\r\n",
      "GCTCCAAGATGATAACTATCTGTTAAAAACAAAATCGCTTTACAGTGGTTAGAGTTATTCAAATACAAAGATATGTTTCA\r\n",
      "AGAGAAATTTGTTCGGATTCAAAACCACATATTGACATTTGACCAATGTGTTTTAACCGATGTTTTTATCATCTTAGGCT\r\n",
      "TTTCACGCGAAGTTACTGTACAAATTGGCTGAATATATAAGTTGTAAATACACGATTTTTCATTAATAAAATATCCATAT\r\n",
      "GTGGTTATGAATCCGAACAAGGAGTTTGAATATAACGACATTTCTTGTATT\r\n",
      ">contig_3--organism-Drosophila-mauritiana\r\n",
      "aactgattttgttgtaattaatttttggccaaattttcactccatcaaaattgtataattggaactcagaattcataaac\r\n",
      "tcagaatgcactgattgggatttaagaacaactcaacgagttgacattccatatttgggtaattatttcgaatgtttgat\r\n",
      "caaaaaaccaaatattttttcacaaaaaatctgggaaaatatttggcaaaaaaaatgaaattaaaaattggcttttttgg\r\n",
      "ctataacttgactaaaaatggtcagagagcaaaaaggagtaccattttttgtactccttacaaccaatactaacaacccc\r\n",
      "tttcacttttaaactgatttttaaaattaatttttggccaaattttcgaattttttgtaagggggtaaaatcaatcatca\r\n",
      "aaatttgcaaattggaaacctcctagaattccaaaacttgaatgcaattcgattgggatttaaggaacaaactcaacgag\r\n",
      "gtatgacattccatatttgggtaattatttcgaatgtttgatcaaaaaaccaacattttttttcacaaaaaatctgggaa\r\n",
      "aatattttttggcaaaaaaatgaaatttcaaattggctttttggctataacttgactaaaaatggtcagagagcaaaagg\r\n",
      "agtaccattttgtactccttacaaccaatactaacaacccctttcacttttaaactgattttgtaaaattaattttggcc\r\n",
      "aaattttcaaatttttttaaagggtaacatcatcaaaatttgcaaaaattgaaacctcctagaattccaaaacttgaatg\r\n",
      "caattcgattgggatttaagaaacaaactcaacgaggtatgacattccatatttgggtaattatttcgaatgttttgatc\r\n",
      "aaaaaaccaaatatttttttcacaaaaaatctgggaaaatatttttggcaaaaaaatagaaatttcaaattggctttttt\r\n",
      "ggctacaacttgaataaaaatggtcagagagcaaaaggagtaccatttgtactccttacaaccaatactaacaacccctt\r\n",
      "tcacttttaaactgattttgtaaaattaatttttgaaacctcctagaattccaaaacttgaatgcaattcgattgggatt\r\n",
      "taagaaacaaactcaacgaggtatgacattccatatttgggtaattatttcgaatgttctgatcaaaaaccaaatatttt\r\n",
      "ttcacaaaaaatctgggaaaatatttttggcaaaaaaatgaaatttcaaattggcttttttggctataacttgactaaaa\r\n",
      "atggtcagagagcaaaaggagtaccattttgtactccttacaaccaatactaacaacccctttcacttttaaactgattt\r\n",
      "tgtaaaattaatttttgtaccatcatcaaaatttgcaaaaaattgaaacctcctagaattccaaaacttgaatgcaattc\r\n",
      "gattgggatttaagaaacaaactcaacgaggtatgacattccatatttgggtaattatttcgaatgttctgatcaaaaac\r\n",
      "caaatattttttttctacaaaaaatctggaaaaatatttttggcaaaaaaatgaaatttcaaattggcttttttggctat\r\n",
      "aacttgactaaaaatggtcagagagcaaaaggagtaccattttgtactccttacaactaatactaacaacccctttcctt\r\n",
      "taaactgattttgtaaaattaatttttgtaccatcatcaaaatttgcaaaaaattgaaacctcctagaattccaaaactt\r\n",
      "gaatgcaattcgattgggatttaagaaacaaactcaacgaggtatgacattccatatttgggtaattatttcgaatgttt\r\n",
      "tgatcaaaaaaccaaatatttttttcacaaaaaatctgggaaaatatttttggcaaaaaaatgaaatttcaaattggctt\r\n",
      "tttggctataacttgactaaaaatggtcagagagcaaaaaaggagtaccattttgtactccttacaaccaatactaacaa\r\n",
      "cccctttcacttttaaactgattttgtaaaattaatttttggccaaattttcgaattttttaagggtaccatcatcaaaa\r\n",
      "tttgcaaaaaattgaaacctcctagaattccaaaacttgaatgcaattcgattgggatttaagaaacaaactcaacgagg\r\n",
      "tatgacattccatatttgggtaattatttcgaatgttttgatcaaaaaccaaatatttttttcacaaaaaatctgggaaa\r\n",
      "atatttttggcaaaaaaatgaaatttcaaattggctttttggctataacttgactaaaaatggtcagagagcaaaaagga\r\n",
      "gtaccattttgtactccttacaaccaatactaacaacccctttcacttttaaactgattttgtaaaattaatttttggcc\r\n",
      "aaattttcgaatttttgtaagggtaccatcatcaaaatttgcaaaaattgaaacctcctagaattccaaaacttgaatgc\r\n",
      "aattcgattgggatttaagaaacaaactcaacgaggtatgacattccatatttgggtaattatttcgaatgttttgatca\r\n",
      "aaaaaccaaatatttttttcacaaaaaatctgggaaaatatttttggcaaaaaaatgaaatttcaaattggctttttggc\r\n",
      "tataacttgactaaaaatggtcagagagcaaaaaggagtaccattttgtactccttacaaccaatactaacaaccccttt\r\n",
      "cacttttaaactgattttgtaaaattaatttttggccaaattttcgaatttttgtaaggggtaccatcatcaaaatttgc\r\n",
      "aaaaaattgaaacctcctagaattccaaaacttgaatgcaattcgattgggatttaagaaacaaactcaacgaggtatga\r\n",
      "cattccatatttgggtaattatttcgaatgttttgatcaaaaaaccaaatattttttcacaaaaaatctgggaaaatatt\r\n",
      "tttggcaaaaaaatgaaatttcaaattggcttttttggctataacttgactaaaaatggtcagagagcaaaaggagtacc\r\n",
      "attttgtactccttacaaccaatactaacaacccctttcacttttaaactgattttgtaaaattaatttttggccaaatt\r\n",
      "ttcgaatttttttaggggtaccatcatcaaaatttgcaaaaaattgaaacctcctagaattccaaaacttgaatgcaatt\r\n",
      "cgattgggatttaagaaataaactcaacgaggtatgacattccatatttgggtaattatttcgaatgttttgatcaaaaa\r\n",
      "accaaatatttttttcacaaaaaatctgggaaaatatttttggcaaaaaaaatgatatttcaaattggctttttggctat\r\n",
      "aacttgactaaaaatggtcagagagcaaaaaggagtaccattttgtactccttacaaacaatactaacaacccctttcac\r\n",
      "ttttaaactgattttgttaaattaatttttggccaaattttcgaatttttttaaggtaccatcatcaaaatttgcaaaaa\r\n",
      "aattgaaacctcctagaattccaaaacttgaatgcaattcgattgggatttaagaaataaactcaacgaggtatgacatt\r\n",
      "ccatatttgggtaattatttcgaatgttttgatcaaaaaaccaaatatttttttcacaaaaaatctgggaaaatattttt\r\n",
      "ggcaaaaaaatgaaatttcaaattggcttttttggctataacttgactaaaaatggtcagagagcaaaaaggagtaccat\r\n",
      "tttgtactccttacaaccaatactaacaacccctttcacttttaaactgattttgtaaaattaatttttggccaaatttt\r\n",
      "cgaattttttgtaaggggtaccatcatcaaaatttgcaaaaaaattgaaacctcctagaattccaaaacttgaatgcaat\r\n",
      "tcgattgggatttaagaaacaaactcaacgaggtatgacattccatatttgggtaattatttcgaatgttttgatcaaaa\r\n",
      "aaccaaatattttttcacaaaaaatctgggaaaatatttttggcaaaaaaatgaaatttcaaattggcttttttggctat\r\n",
      "aacttgactaaaaatggtcagagagcaaaaaggagtaccattttgtactccttacaaccaatactaacaacccctttcac\r\n",
      "ttttaaactgattttgtaaaattaatttttggccaaattttcgaattttttgtaaggggtaccatcatcaaaatttgcaa\r\n",
      "aaaattgaaacctcctagaattccaaaacttgaatgcaattcgattgggatttaagaaacaaactcaacgaggtatgaca\r\n",
      "ttccatatttgggtaattatttcgaatgttttgatcaaaaaaccaaatatttttttcacaaaaaatctgggaaaatattt\r\n",
      "ttggcaaaaaaatgaaatttcaaattggcttttttggctataacttgactaaaaatggtcagagagcaaaaaggagtacc\r\n",
      "attttgtactccttacaaccaatactaacaacccctttcacttttaaactgattttgtaaaattaatttttggccaaatt\r\n",
      "ttcgaatttttttaaggggtaccatcatcaaaatttgcaaaaaattgaaacctcctagaattccaaaacttgaatgcaat\r\n",
      "tcgattgggatttaagaaacaaactcaacgaggtatgacattccatatttgggtaattatttcgaatgttttgatcaaaa\r\n",
      "aaccaaatatttttttcacaaaaaatctgggaaaatatttttggcaaaaaaatgaaatttcaaattggcttttttggcta\r\n",
      "caacttgaataaaaatggtcagagagcaaaacggagtaccattttgtactcctacagccaatactaacaacccctttcac\r\n",
      "ttttaaactgattttgtaaaattaatttttggccaaattttctaattttttgtaaggggtatcatcaaaatttgcaaaaa\r\n",
      "attgaaacctcctagaattccaaaacttgaatgcaattcgattgggatttaagaaacaaactcaacgaggtatgacattc\r\n",
      "catatttgggtaattatttcgaatgttttgatcaaaaaaccaaatattttttcacaaaaaatctgggaaaatatttttgg\r\n",
      "caaaaaaatgaaatttcaaattggcttttttggctataacttgactaaaaatggtcagagagcaaaaaggagtaccattt\r\n",
      "tgtactccttacaaccaatactaacaacccctttcacttttaaactgattttgtaaaattaatttttggccaaattttcg\r\n",
      "aattttttgtaaggggtatcatcaaaatttgcaaaaaattgaaacctcctagaattccaaaacttgaatgcaattcgatt\r\n",
      "gggatttaagaaacaaactcaacgaggtatgacattccatatttgggtaattatttcgaatgttttgatcaaaaaaccaa\r\n",
      "atatttttttcacaaaaaatctgggaaaatatttttggcaaaaaaatgaaatttcaaattggcttttttggctataactt\r\n",
      "gactaaaaatggtcagagagcaaaaaggagtaccattttgtactccttacaaccaatactaacaacccctttcactttta\r\n",
      "aactgattttgtaaaattaatttttggccaaattttattttttaaagggtttccatcatcaaaatttgcaaaaaattgaa\r\n",
      "acctcctagaattccaaaacttgaatgcaattcgattgggatttaagaaacaaactcaacgaggtatgacattccatatt\r\n",
      "tgggtaattatttcgaatgttttgatcaaaaaaccaaatatttttttcacaaaaaatctgggaaaatatttttggcaaaa\r\n",
      "aaatgaaatttcaaattggcttttttggctataacttgactaaaaatggtcagagagcaaaaaggagtaccattttgtac\r\n",
      "tccttacaaccaatactaacaacccctttcacttttaaactgattttgtaaaattaatttttggccaaattttcgaattt\r\n",
      "tttgaggggtacatcatcaaaatttgcaaaaaattgatacctcctagaattccaaaacttgaacgcaattcgattgggat\r\n",
      "ttaagaaacaaactcaacgaggtatgacattccatatttgggtaattatttcgaatgttttgatcaaaaaaccaaatatt\r\n",
      "tttttcacaaaaaatctgggaaaatatttttggcaaaaaaatgaaatttcaaattggctttttggctataacttgactaa\r\n",
      "aaatggtcagagagcaaaaaggagtaccattttgtactccttacaaccaatactaacaacccctttcacttttaaactga\r\n",
      "ttttgtaaaattaatttttggccaaattttcgaattttttgtaaggggtaccatcatcaaaatttgcaaaaaattgaaac\r\n",
      "ctcctagaattccaaaacttgaatgcaattcgattgggatttaagaaacaaactcaacgaggtatgacattccatatttg\r\n",
      "ggtaattatttcgaatgttttgatcaaaaaaccaaatatttttttcacaaaaaatctgggaaaatatttttggcaaaaaa\r\n",
      "atgaaatttcaaattggcttttttggctataacttgactaaaaatggtcagagagcaaaaaggagtaccattttgtactc\r\n",
      "cttacaaccaatactaacaacccctttcacttttaaactgattttgtaaaattaatttttggccaaattttcgaattttt\r\n",
      "taggggtaccatcatcaaaatttgcaaaaaattgaaacctcctagaattccaaaacttgaatgcaattcgattgggattt\r\n",
      "aagaaacaaactcaacgaggtatgacattccatatttgggtaattatttcgaatgttttgatcaaaaataccaaatattt\r\n",
      "ttttcacaaaaaatctgggaaaatatttttggcaaaaaaatgaaatttcaaattggcttttttggctataacttgactaa\r\n",
      "aaatggtcagagagcaaaaaggagtaccattttgtactccttacaaccaatactaacaacccctttcacttttaaactga\r\n",
      "ttttgtaaaattaatttttggccaaattttcgaattttttgtaccatcatcaaaatttgcaaaaaattgaaacctcctag\r\n",
      "aattccaaaacttgaatgcaattcgattgggatttaagaaacaaactcaacgaggtatgacattccatatttgggtaatt\r\n",
      "atttcgaatgttttgatcaaaaaaccaaatatttttttcacaaaaaatctgggaaaatatttttggcaaaaaaatgaaat\r\n",
      "ttcaaattggcttttttggctataacttgactaaaaatggtcagagagcaaaaaggagtaccattttgtactccttacaa\r\n",
      "ccaatactaacaacccctttcacttttaaactgattttgtaaaattaatttttggccaaattttcgaattttttgtaagg\r\n",
      "ggtaccatcatcaaaatttgcaaaaaattgaaacctcctagaattccaaaacttgaatgcaattcgattgggatttaaga\r\n",
      "aacaaactcaacgaggtatgacattccatatttgggtaattatttcgaatgttttgatcaaaaaaccaaatatttttttc\r\n",
      "acaaaaaatctgggaaaatatttttggcaaaaaaatgaaatttcaaattggctttttggctataacttgactaaaaatgg\r\n",
      "tcagagagcaaaaaggagtatcattttgtactccttacaaccaatactaacaacccctttcacttttaaactgattttgt\r\n",
      "aaaattaatttttggccaaattttcgaattttttatcatcaaaatttgcaaaaaaattgaaacctcctagaattccaaaa\r\n",
      "cttgaatgcaattcgattgggatttaagaaacaaactcaacgaggtatgacattccatatttgggtaattatttcgaatg\r\n",
      "ttttgatcaaaaaaccaaatatttttttcacaaaaaatctgggaaaatatttttggcaaaaaaatgaaatttcaaattgg\r\n",
      "cttttttggctataacttgactaaaaatggtcagagagcaaaaaggagtaccattttgtactccttacaaccaatactaa\r\n",
      "caacccctttcacttttaaactgattttgtaaaattaatttttggcaaattttcgaatttttttaagggtaccatcatca\r\n",
      "aaatttgcaaaaaattgaaacctcctagaattccaaaacttgaatgcaattcgattgggatttaagaaacaaactcaacg\r\n",
      "aggtatgacattccatatttgggtaattatttcgaatgttttgatcaaaaaaccaaatatttttttcacaaaatctggga\r\n",
      "aaatatttttggcaaaaaaatgaaatttcaaattggctttttggctataacttgactaaaaatggtcagagagcaaaaag\r\n",
      "gagtaccattttgtactccttacaaccaatactaacaacccctttcacttttaaactgattttgtaaaattaatttttgg\r\n",
      "ccaaattttcgaattttttttaaggggtaccatcatcaaaatttgcaaaaaattgaaacctcctagaattccaaaacttg\r\n",
      "aatgcaattcgattgggatttaagaaacaaactcaacgaggtatgacattccatatttgggtaattatttcgaatgtttt\r\n",
      "gatcaaaaaaccaaatatttttttcacaaaaaatctgggaaaatatttttggcaaaaaaatgaaatttcaaattggcttt\r\n",
      "ttggctataacttgactaaaaatggtcagagagcaaaaaggagtaccattttgtactccttacaaccaatactaacaacc\r\n",
      "cctttcacttttaaactgattttgtaaaattaatttttggccaaatttttcgaattttttttgtaaggggtaccatcatc\r\n",
      "aaaatttgcaaaaaattgaaacctcctagaattccaaaacttgaatgcaattcgattgggatttaagaaacaaactcaac\r\n",
      "gaggtatgacattccatatttgggtaattatttcgaatgttttgatcaaaaaaccaaatatttttttcacaaaaaatctg\r\n",
      "ggaaaatatttttggcaaaaaaatgaaatttcaaattggctttttggctataacttgactaaaaatggtcagagagcaaa\r\n",
      "aggagtaccattttgtactccttacaaccaatactagcaacccctttcacttttaaactgattttgtaaaattaattttt\r\n",
      "ggccaaattttcgaatttttgtggtaccatcatccaaaatttgcaaaaaattgaaacctcctagaattccaaaacttgaa\r\n",
      "tgcaattcgattgggatttaagaaacaaactcaacgaggtatgacattccatatttgggtaattatttcgaatgttttga\r\n",
      "tcaaaaaccaaatattttttcacaaaaaatctgggaaaatattttggcaaaaaaatgaaatttcaaattggcttttttgg\r\n",
      "ctataacttgactaaaaatggtcagagagcaaaaggagtaccattttgtactccttacaaccaatactagcaaccccttt\r\n",
      "cacttttaaactgatttttgtaaaattaatttttggccaaattttcgaattttttaagggattaccatcatcaaaatttg\r\n",
      "caaaaaattgaaacctcctagaattccaaaacttgaatgcaattcgattgggatttaagaaacaaactcaacgaggtatg\r\n",
      "acattccatatttgggtaattatttcgaatgttttgatcaaaaaaccaaatatttttcacaaaaaatctgggaaaatatt\r\n",
      "tttggcaaaaaaatgaaatttcaaattggcttttttggctataacttgactaaaaatggtcagagagcaaaaggagtacc\r\n",
      "attttgtactccttacaactaatactaacaacccctttcacttttaaactgattttgtaaaattaatttttggccaaatt\r\n",
      "ttcgaatttttgattaccgtcatcaaaatttgcaaaaaagtgaaacctcctagaattccaaaacttgaatgcaattcgat\r\n"
     ]
    },
    {
     "name": "stdout",
     "output_type": "stream",
     "text": [
      "contig_1--organism-Drosophila-mauritiana\r\n"
     ]
    }
   ],
   "source": [
    "## testing filtering sequences \n",
    "! head -n 200 sequences/test_genomes_modified.fasta > sequences/input_genomes.fa \n",
    "! cat sequences/input_genomes.fa\n",
    "! head -1 sequences/test_genomes_modified.fasta | cut -c 2- > sequences/filter_fasta.txt\n",
    "! cat sequences/filter_fasta.txt\n"
   ]
  },
  {
   "cell_type": "code",
   "execution_count": 103,
   "metadata": {
    "collapsed": true
   },
   "outputs": [],
   "source": [
    "! seqtk subseq sequences/input_genomes.fa sequences/filter_fasta.txt > sequences/test_genomes_no_dups.fasta\n"
   ]
  },
  {
   "cell_type": "code",
   "execution_count": 111,
   "metadata": {},
   "outputs": [
    {
     "name": "stdout",
     "output_type": "stream",
     "text": [
      ">contig_1--organism-Drosophila-mauritiana\r\n"
     ]
    }
   ],
   "source": [
    "# test works \n",
    "! cat sequences/test_genomes_no_dups.fasta | grep \">\""
   ]
  },
  {
   "cell_type": "code",
   "execution_count": 122,
   "metadata": {},
   "outputs": [
    {
     "name": "stdout",
     "output_type": "stream",
     "text": [
      ">contig_1--organism-Drosophila-mauritiana\n",
      "gattccgagacagaaaagtcaacatgagccatacgctcacctggtctatactgaatatcaaattcgaaagattgcatgta\n",
      "cgaccaccactctatgaactctaaaggtcagttctatctttgtgggatgaggctttaagcgaattgcaatcagtaaacac\n",
      "aacaaaatgacggccatgcaagtaatggcgaaagtgttttatagaattcggtatacgcgattctgctgaagatgtcatct\n",
      "gctaaaatatttcgataactcgcggcttctgttcaatccggtgcagcgaaaatagtgccgtagccgacagaatcaaggcg\n",
      "tctgtgtggagcttcgatagaaaattgtgggtcgaatatagtaaggggacaggttcgttagttaaaatagatattacttt\n",
      "ttgccgtatttgttcatgctcaatttcacaaaaatgacccgctctttgaagtaaaggcgtaaagagggtttcacttcagt\n",
      "cagaaaacttgggtacaaattgtcgaaaatacgagcatcagctccaataaacgtctcaacagaaagtgacggactgggtg\n",
      "gaggtggcaaattcgaaagggtcgaattttcctgacggccgaatctcaccttgacttaactcgaaacccaaatattcaac\n",
      "acaagacttgagaaaggaacattttgtaatattaaaagaaaatccagcatgcgtaagtgcttttcttgcagtaattactc\n",
      "contig_1--organism-Chymomyza-costata\n",
      "contig_1--organism-Drosophila-mauritiana\n",
      "contig_1--organism-Drosophila-sechellia\n",
      "contig_1--organism-Drosophila-simulans\n",
      "contig_10--organism-Chymomyza-costata\n",
      "contig_10--organism-Drosophila-mauritiana\n",
      "contig_10--organism-Drosophila-sechellia\n",
      "contig_10--organism-Drosophila-simulans\n",
      "contig_100--organism-Chymomyza-costata\n",
      "contig_100--organism-Drosophila-mauritiana\n"
     ]
    }
   ],
   "source": [
    "! head sequences/test_genomes_modified.fasta\n",
    "! head sequences/unique_entries.txt\n",
    "! seqtk subseq sequences/test_genomes_modified.fasta sequences/unique_entries.txt > sequences/no_duplicates.fasta\n"
   ]
  },
  {
   "cell_type": "code",
   "execution_count": 125,
   "metadata": {},
   "outputs": [
    {
     "name": "stdout",
     "output_type": "stream",
     "text": [
      ">contig_1--organism-Drosophila-mauritiana\n",
      ">contig_1--organism-Drosophila-mauritiana\n"
     ]
    }
   ],
   "source": [
    "! cat sequences/no_duplicates.fasta | grep \"contig_1--organism-Drosophila-mauritiana\""
   ]
  },
  {
   "cell_type": "code",
   "execution_count": 20,
   "metadata": {},
   "outputs": [
    {
     "name": "stdout",
     "output_type": "stream",
     "text": [
      "\n",
      "\n",
      "Building a new DB, current time: 01/14/2021 18:15:41\n",
      "New DB name:   /Users/giana.cirolia/test_genomes_db\n",
      "New DB title:  enhancer_analysis_codebase/sequences/test_genomes.fasta\n",
      "Sequence type: Nucleotide\n",
      "Keep MBits: T\n",
      "Maximum file size: 1000000000B\n",
      "Adding sequences from FASTA; added 2552 sequences in 10.2297 seconds.\n",
      "\n",
      "\n"
     ]
    }
   ],
   "source": [
    "# make database of sequences from concatinated sequence files (currently having issue bc won't parse ids correctly...)\n",
    "# I removed the -parse_seqids and it made a list of files with db base name (need unique files for this )\n",
    "# we will need to figure out why this is not working and add parse ids later \n",
    "\n",
    "! makeblastdb -dbtype nucl -in enhancer_analysis_codebase/sequences/test_genomes.fasta -out test_genomes_db -blastdb_version 5 -parse_seqids"
   ]
  },
  {
   "cell_type": "code",
   "execution_count": 22,
   "metadata": {},
   "outputs": [
    {
     "name": "stdout",
     "output_type": "stream",
     "text": [
      "Database: enhancer_analysis_codebase/sequences/test_genomes.fasta\r\n",
      "\t2,552 sequences; 856,925,960 total bases\r\n",
      "\r\n",
      "Date: Jan 14, 2021  6:15 PM\tLongest sequence: 35,111,255 bases\r\n",
      "\r\n",
      "BLASTDB Version: 5\r\n",
      "\r\n",
      "Volumes:\r\n",
      "\t/Users/giana.cirolia/test_genomes_db\r\n"
     ]
    }
   ],
   "source": [
    "# check that your db created a database \n",
    "! blastdbcmd -db test_genomes_db -info"
   ]
  },
  {
   "cell_type": "code",
   "execution_count": 23,
   "metadata": {},
   "outputs": [
    {
     "name": "stdout",
     "output_type": "stream",
     "text": [
      "    2552\r\n"
     ]
    }
   ],
   "source": [
    "# check input fastas in your database \n",
    "! grep \">\" enhancer_analysis_codebase/sequences/test_genomes.fasta | wc -l"
   ]
  },
  {
   "cell_type": "code",
   "execution_count": 26,
   "metadata": {},
   "outputs": [
    {
     "name": "stdout",
     "output_type": "stream",
     "text": [
      "    2552\r\n"
     ]
    }
   ],
   "source": [
    "# count the number of sequence ids in your data base \n",
    "! blastdbcmd -db test_genomes_db -entry all -outfmt %i | wc -l"
   ]
  },
  {
   "cell_type": "code",
   "execution_count": null,
   "metadata": {
    "collapsed": true
   },
   "outputs": [],
   "source": [
    "# if sequence ids equals input fastas you are correct. Here our sequence ids are not the names we want but its a start."
   ]
  }
 ],
 "metadata": {
  "kernelspec": {
   "display_name": "Python 3",
   "language": "python",
   "name": "python3"
  },
  "language_info": {
   "codemirror_mode": {
    "name": "ipython",
    "version": 3
   },
   "file_extension": ".py",
   "mimetype": "text/x-python",
   "name": "python",
   "nbconvert_exporter": "python",
   "pygments_lexer": "ipython3",
   "version": "3.6.3"
  }
 },
 "nbformat": 4,
 "nbformat_minor": 2
}
