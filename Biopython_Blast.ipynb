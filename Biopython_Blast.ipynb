{
 "cells": [
  {
   "cell_type": "code",
   "execution_count": 4,
   "metadata": {},
   "outputs": [
    {
     "name": "stdout",
     "output_type": "stream",
     "text": [
      "/Users/giana.cirolia/anaconda3/bin/python\r\n"
     ]
    }
   ],
   "source": [
    "# check installation of python \n",
    "! which python"
   ]
  },
  {
   "cell_type": "code",
   "execution_count": 7,
   "metadata": {},
   "outputs": [
    {
     "name": "stdout",
     "output_type": "stream",
     "text": [
      "/Users/giana.cirolia/anaconda3/bin/pip\r\n"
     ]
    }
   ],
   "source": [
    "# check installation of pip\n",
    "! which pip"
   ]
  },
  {
   "cell_type": "code",
   "execution_count": 6,
   "metadata": {},
   "outputs": [
    {
     "name": "stdout",
     "output_type": "stream",
     "text": [
      "Collecting pip\n",
      "\u001b[?25l  Downloading https://files.pythonhosted.org/packages/54/eb/4a3642e971f404d69d4f6fa3885559d67562801b99d7592487f1ecc4e017/pip-20.3.3-py2.py3-none-any.whl (1.5MB)\n",
      "\u001b[K    100% |████████████████████████████████| 1.5MB 1.7MB/s ta 0:00:01\n",
      "\u001b[?25hInstalling collected packages: pip\n",
      "  Found existing installation: pip 19.0.3\n",
      "    Uninstalling pip-19.0.3:\n",
      "      Successfully uninstalled pip-19.0.3\n",
      "Successfully installed pip-20.3.3\n"
     ]
    }
   ],
   "source": [
    "# upgrade pip if needed \n",
    "! pip install --upgrade pip"
   ]
  },
  {
   "cell_type": "code",
   "execution_count": 5,
   "metadata": {},
   "outputs": [
    {
     "name": "stdout",
     "output_type": "stream",
     "text": [
      "Requirement already satisfied: biopython in /Users/giana.cirolia/anaconda3/lib/python3.6/site-packages (1.72)\n",
      "Requirement already satisfied: numpy in /Users/giana.cirolia/anaconda3/lib/python3.6/site-packages (from biopython) (1.15.1)\n",
      "\u001b[33mYou are using pip version 19.0.3, however version 20.3.3 is available.\n",
      "You should consider upgrading via the 'pip install --upgrade pip' command.\u001b[0m\n"
     ]
    }
   ],
   "source": [
    "# install biopython\n",
    "! pip install biopython"
   ]
  },
  {
   "cell_type": "code",
   "execution_count": 10,
   "metadata": {},
   "outputs": [
    {
     "name": "stdout",
     "output_type": "stream",
     "text": [
      "Requirement already satisfied: biopython in /Users/giana.cirolia/anaconda3/lib/python3.6/site-packages (1.72)\n",
      "Collecting biopython\n",
      "  Downloading biopython-1.78-cp36-cp36m-macosx_10_9_x86_64.whl (2.2 MB)\n",
      "\u001b[K     |████████████████████████████████| 2.2 MB 1.2 MB/s eta 0:00:01\n",
      "\u001b[?25hRequirement already satisfied: numpy in /Users/giana.cirolia/anaconda3/lib/python3.6/site-packages (from biopython) (1.15.1)\n",
      "Installing collected packages: biopython\n",
      "  Attempting uninstall: biopython\n",
      "    Found existing installation: biopython 1.72\n",
      "    Uninstalling biopython-1.72:\n",
      "      Successfully uninstalled biopython-1.72\n",
      "Successfully installed biopython-1.78\n"
     ]
    }
   ],
   "source": [
    "# upgrade biopython if needed \n",
    "\n",
    "! pip install biopython --upgrade"
   ]
  },
  {
   "cell_type": "code",
   "execution_count": 13,
   "metadata": {},
   "outputs": [
    {
     "name": "stdout",
     "output_type": "stream",
     "text": [
      "1.78\n"
     ]
    }
   ],
   "source": [
    "# import biopython and check import\n",
    "import Bio\n",
    "print(Bio.__version__)"
   ]
  },
  {
   "cell_type": "code",
   "execution_count": 20,
   "metadata": {},
   "outputs": [
    {
     "name": "stdout",
     "output_type": "stream",
     "text": [
      "\n",
      "\n",
      "Building a new DB, current time: 01/14/2021 18:15:41\n",
      "New DB name:   /Users/giana.cirolia/test_genomes_db\n",
      "New DB title:  enhancer_analysis_codebase/sequences/test_genomes.fasta\n",
      "Sequence type: Nucleotide\n",
      "Keep MBits: T\n",
      "Maximum file size: 1000000000B\n",
      "Adding sequences from FASTA; added 2552 sequences in 10.2297 seconds.\n",
      "\n",
      "\n"
     ]
    }
   ],
   "source": [
    "# make database of sequences from concatinated sequence files (currently having issue bc won't parse ids correctly...)\n",
    "# I removed the --parse_seqids and it made a list of files with db base name\n",
    "# we will need to figure out why this is not working and add parse ids later \n",
    "\n",
    "! makeblastdb -dbtype nucl -in enhancer_analysis_codebase/sequences/test_genomes.fasta -out test_genomes_db -blastdb_version 5"
   ]
  },
  {
   "cell_type": "code",
   "execution_count": 22,
   "metadata": {},
   "outputs": [
    {
     "name": "stdout",
     "output_type": "stream",
     "text": [
      "Database: enhancer_analysis_codebase/sequences/test_genomes.fasta\r\n",
      "\t2,552 sequences; 856,925,960 total bases\r\n",
      "\r\n",
      "Date: Jan 14, 2021  6:15 PM\tLongest sequence: 35,111,255 bases\r\n",
      "\r\n",
      "BLASTDB Version: 5\r\n",
      "\r\n",
      "Volumes:\r\n",
      "\t/Users/giana.cirolia/test_genomes_db\r\n"
     ]
    }
   ],
   "source": [
    "# check that your db created a database \n",
    "! blastdbcmd -db test_genomes_db -info"
   ]
  },
  {
   "cell_type": "code",
   "execution_count": 23,
   "metadata": {},
   "outputs": [
    {
     "name": "stdout",
     "output_type": "stream",
     "text": [
      "    2552\r\n"
     ]
    }
   ],
   "source": [
    "# check input fastas in your database \n",
    "! grep \">\" enhancer_analysis_codebase/sequences/test_genomes.fasta | wc -l"
   ]
  },
  {
   "cell_type": "code",
   "execution_count": 26,
   "metadata": {},
   "outputs": [
    {
     "name": "stdout",
     "output_type": "stream",
     "text": [
      "    2552\r\n"
     ]
    }
   ],
   "source": [
    "# count the number of sequence ids in your data base \n",
    "! blastdbcmd -db test_genomes_db -entry all -outfmt %i | wc -l"
   ]
  },
  {
   "cell_type": "code",
   "execution_count": null,
   "metadata": {
    "collapsed": true
   },
   "outputs": [],
   "source": [
    "# if sequence ids equals input fastas you are correct. Here our sequence ids are not the names we want but its a start."
   ]
  }
 ],
 "metadata": {
  "kernelspec": {
   "display_name": "Python 3",
   "language": "python",
   "name": "python3"
  },
  "language_info": {
   "codemirror_mode": {
    "name": "ipython",
    "version": 3
   },
   "file_extension": ".py",
   "mimetype": "text/x-python",
   "name": "python",
   "nbconvert_exporter": "python",
   "pygments_lexer": "ipython3",
   "version": "3.6.3"
  }
 },
 "nbformat": 4,
 "nbformat_minor": 2
}
