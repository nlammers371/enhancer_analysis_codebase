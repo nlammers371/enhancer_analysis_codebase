{
 "cells": [
  {
   "cell_type": "code",
   "execution_count": 36,
   "metadata": {
    "collapsed": true
   },
   "outputs": [],
   "source": [
    "## fasta files used for this analysis are whole genome assemblies from \n",
    "## for custom db they need to be concatinated into one fasta file\n",
    "## dowload fasta files and concatenate into one file\n",
    "## examples\n",
    "## for our test simulation I am using C.costata, D.mel, S.sech, D.sim, D.maur ( sech, sim, mar = close to mel ,cos = farthest)\n",
    "\n",
    "#! mkdir -p ../sequences\n",
    "#! cat ../sequences/D.mauritiana.fasta ../sequences/D.melanogaster.fasta ../sequences/D.sechellia.fasta ../sequences/D.simulans.fasta ../sequences/C.costata.fasta > ../sequences/combined_genomes.fasta\n",
    "# for more sequences\n",
    "# ! cat *fasta > many_seqs.fa\n",
    "# use this in the folder where you have all of your fastas "
   ]
  },
  {
   "cell_type": "code",
   "execution_count": 1,
   "metadata": {},
   "outputs": [
    {
     "name": "stdout",
     "output_type": "stream",
     "text": [
      "       0\r\n"
     ]
    }
   ],
   "source": [
    "## make db will throw an error if any duplicate ids so we check for this\n",
    "## some fasta files may still have duplicates and this will cause an error in make db, therefore we need to remove duplicates fasta files\n",
    "## this can be done in 2 steps\n",
    "## step 1) evaluate sequences/test_genomes_modified.fasta for duplicates and count if there are duplicates. \n",
    "## grep searches for > (start of fasta id line), uniq d prints out any duplicated non unique entries, wc -l counts the lines\n",
    "! cat ../sequences/combined_genomes.fa | grep '^>' | sort | uniq -d | wc -l "
   ]
  },
  {
   "cell_type": "code",
   "execution_count": 4,
   "metadata": {
    "collapsed": true
   },
   "outputs": [],
   "source": [
    "## make db is particular about format of id so here we need to process the id's from our data to be compatable with blast makedb\n",
    "## to parse ids for make db need 1) unique entries 2) names to not have blank spaces and other characters/less than 50 long\n",
    "## for these files, we are keeping all alpha numberics and removing the end isolate number and linking names with \"-\"\n",
    "! sed -i 's/[^a-zA-Z0-9>_]/-/g; s/--organism//; s/---isolate//' ../sequences/combined_genomes.fasta > ../sequences/combined_genomes_modified_ids.fasta"
   ]
  },
  {
   "cell_type": "code",
   "execution_count": 2,
   "metadata": {},
   "outputs": [
    {
     "name": "stdout",
     "output_type": "stream",
     "text": [
      "    2367\n",
      ">contig_1--organism-Drosophila-mauritiana\n",
      "gattccgagacagaaaagtcaacatgagccatacgctcacctggtctatactgaatatcaaattcgaaagattgcatgta\n",
      "cgaccaccactctatgaactctaaaggtcagttctatctttgtgggatgaggctttaagcgaattgcaatcagtaaacac\n",
      "aacaaaatgacggccatgcaagtaatggcgaaagtgttttatagaattcggtatacgcgattctgctgaagatgtcatct\n",
      "gctaaaatatttcgataactcgcggcttctgttcaatccggtgcagcgaaaatagtgccgtagccgacagaatcaaggcg\n",
      "tctgtgtggagcttcgatagaaaattgtgggtcgaatatagtaaggggacaggttcgttagttaaaatagatattacttt\n",
      "ttgccgtatttgttcatgctcaatttcacaaaaatgacccgctctttgaagtaaaggcgtaaagagggtttcacttcagt\n",
      "cagaaaacttgggtacaaattgtcgaaaatacgagcatcagctccaataaacgtctcaacagaaagtgacggactgggtg\n",
      "gaggtggcaaattcgaaagggtcgaattttcctgacggccgaatctcaccttgacttaactcgaaacccaaatattcaac\n",
      "acaagacttgagaaaggaacattttgtaatattaaaagaaaatccagcatgcgtaagtgcttttcttgcagtaattactc\n"
     ]
    }
   ],
   "source": [
    "## total sequences. this should be the number of sequences in output database. \n",
    "! cat ../sequences/combined_genomes_modified_ids.fasta | grep \">\" | wc -l\n",
    "! head ../sequences/combined_genomes_modified_ids.fasta"
   ]
  },
  {
   "cell_type": "code",
   "execution_count": 5,
   "metadata": {},
   "outputs": [
    {
     "name": "stdout",
     "output_type": "stream",
     "text": [
      "\n",
      "\n",
      "Building a new DB, current time: 01/23/2021 15:44:38\n",
      "New DB name:   /Users/giana.cirolia/enhancer_analysis_codebase/database/genomes_db\n",
      "New DB title:  sequences/combined_genomes_modified_ids.fasta\n",
      "Sequence type: Nucleotide\n",
      "Keep MBits: T\n",
      "Maximum file size: 1000000000B\n",
      "Adding sequences from FASTA; added 2367 sequences in 11.4137 seconds.\n",
      "\n",
      "\n"
     ]
    }
   ],
   "source": [
    "# make database of sequences from concatinated sequence files (currently having issue bc won't parse ids correctly...)\n",
    "# I removed the -parse_seqids and it made a list of files with db base name (need unique files for this )\n",
    "# we will need to figure out why this is not working and add parse ids later \n",
    "! mkdir -p database\n",
    "! makeblastdb -dbtype nucl -in ../sequences/combined_genomes_modified_ids.fasta  -out ../database/genomes_db -blastdb_version 5 -parse_seqids"
   ]
  },
  {
   "cell_type": "code",
   "execution_count": 3,
   "metadata": {},
   "outputs": [
    {
     "name": "stdout",
     "output_type": "stream",
     "text": [
      "Database: sequences/combined_genomes_modified_ids.fasta\r\n",
      "\t2,367 sequences; 871,498,291 total bases\r\n",
      "\r\n",
      "Date: Jan 23, 2021  3:44 PM\tLongest sequence: 35,111,255 bases\r\n",
      "\r\n",
      "BLASTDB Version: 5\r\n",
      "\r\n",
      "Volumes:\r\n",
      "\t/Users/giana.cirolia/enhancer_analysis_codebase/database/genomes_db\r\n"
     ]
    }
   ],
   "source": [
    "# check that your db created a database \n",
    "! blastdbcmd -db ../database/genomes_db -info"
   ]
  },
  {
   "cell_type": "code",
   "execution_count": 4,
   "metadata": {},
   "outputs": [
    {
     "name": "stdout",
     "output_type": "stream",
     "text": [
      "    2367\r\n"
     ]
    }
   ],
   "source": [
    "# count the number of sequence ids in your data base \n",
    "! blastdbcmd -db ../database/genomes_db -entry all -outfmt %i | wc -l"
   ]
  },
  {
   "cell_type": "code",
   "execution_count": 10,
   "metadata": {},
   "outputs": [],
   "source": [
    "## list of input species for comparison later\n",
    "! blastdbcmd -db ../database/genomes_db -entry all -outfmt %i | awk -F\"--\" '{print $2}' | uniq -d > ../sequences/input_species.txt"
   ]
  },
  {
   "cell_type": "code",
   "execution_count": 11,
   "metadata": {},
   "outputs": [
    {
     "name": "stdout",
     "output_type": "stream",
     "text": [
      "organism-Drosophila-mauritiana\r\n",
      "organism-Drosophila-melanogaster\r\n",
      "organism-Drosophila-sechellia\r\n",
      "organism-Drosophila-simulans\r\n",
      "organism-Chymomyza-costata\r\n"
     ]
    }
   ],
   "source": [
    "! cat ../sequences/input_species.txt"
   ]
  },
  {
   "cell_type": "code",
   "execution_count": null,
   "metadata": {
    "collapsed": true
   },
   "outputs": [],
   "source": [
    "# if sequence ids equals input fastas you are correct. Here our sequence ids are not the names we want but its a start."
   ]
  },
  {
   "cell_type": "code",
   "execution_count": 26,
   "metadata": {},
   "outputs": [
    {
     "data": {
      "text/plain": [
       "36"
      ]
     },
     "execution_count": 26,
     "metadata": {},
     "output_type": "execute_result"
    }
   ],
   "source": [
    "len(\"contig_1_Drosophila_immigrans_kari17\")"
   ]
  },
  {
   "cell_type": "code",
   "execution_count": 33,
   "metadata": {},
   "outputs": [],
   "source": [
    "! sed 's/[^a-zA-Z0-9>_]/-/g; s/--organism//; s/---isolate//' ../sequences/mult_isolates/test.txt > test_changed.txt"
   ]
  },
  {
   "cell_type": "code",
   "execution_count": 34,
   "metadata": {},
   "outputs": [
    {
     "name": "stdout",
     "output_type": "stream",
     "text": [
      ">contig_1-Drosophila-immigrans-kari17-\r\n",
      "cagactcgagttcaaggatgtggttcagaataaccctttctgtcatctttcccagtgctgaaagaagact\r\n",
      "gattggccggtatccatcgacttctgtatgctgtttctctggtttcggaatcattacaattagcgtgttc\r\n",
      "ttccagatcctagggaaatgccccagcctgagtatgctgtttaggagtaacactataaataacagtgctt\r\n",
      "tttttggtagcagcttcaacgtcctgttgtccaaaagatcttcgccaggggattttttggccttcagcgc\r\n",
      "ttttataagaagctcaacttcttgcagcgtaaccggtttttctggcaacgtcatttggaatggggtctcc\r\n",
      "aattgcagctcgactgcccttcgtgtaacctcatttgtgaagtcaaatggcataaatctactttcaaggc\r\n",
      "tgtctgcaaatacttctgccttttcttggctggagaaacaccatccaccggtggggctcttaattggggc\r\n",
      "tttgggattgcctgtctctttaggcggcttgtaagtctccagagagagtaattggtagacgcatccgact\r\n",
      "agcttcctctagaatcccatctatcttgacttgcttagctctggcaagggctttttgaacacgattagac\r\n"
     ]
    }
   ],
   "source": [
    "! cat test_changed.txt"
   ]
  },
  {
   "cell_type": "code",
   "execution_count": 63,
   "metadata": {},
   "outputs": [
    {
     "ename": "KeyboardInterrupt",
     "evalue": "",
     "output_type": "error",
     "traceback": [
      "\u001b[0;31m---------------------------------------------------------------------------\u001b[0m",
      "\u001b[0;31mKeyboardInterrupt\u001b[0m                         Traceback (most recent call last)",
      "\u001b[0;32m<ipython-input-63-dfeedd8e8ea1>\u001b[0m in \u001b[0;36m<module>\u001b[0;34m()\u001b[0m\n\u001b[1;32m      3\u001b[0m     \u001b[0;32mfor\u001b[0m \u001b[0mline\u001b[0m \u001b[0;32min\u001b[0m \u001b[0mfh\u001b[0m\u001b[0;34m:\u001b[0m\u001b[0;34m\u001b[0m\u001b[0m\n\u001b[1;32m      4\u001b[0m         \u001b[0mline_stripped\u001b[0m \u001b[0;34m=\u001b[0m \u001b[0mline\u001b[0m\u001b[0;34m.\u001b[0m\u001b[0mstrip\u001b[0m\u001b[0;34m(\u001b[0m\u001b[0;34m)\u001b[0m\u001b[0;34m\u001b[0m\u001b[0m\n\u001b[0;32m----> 5\u001b[0;31m         \u001b[0;32mif\u001b[0m \u001b[0mlen\u001b[0m\u001b[0;34m(\u001b[0m\u001b[0mline_stripped\u001b[0m\u001b[0;34m)\u001b[0m \u001b[0;34m<\u001b[0m \u001b[0;36m50\u001b[0m\u001b[0;34m:\u001b[0m\u001b[0;34m\u001b[0m\u001b[0m\n\u001b[0m\u001b[1;32m      6\u001b[0m             \u001b[0msets\u001b[0m\u001b[0;34m.\u001b[0m\u001b[0madd\u001b[0m\u001b[0;34m(\u001b[0m\u001b[0mlen\u001b[0m\u001b[0;34m(\u001b[0m\u001b[0mline_stripped\u001b[0m\u001b[0;34m)\u001b[0m\u001b[0;34m)\u001b[0m\u001b[0;34m\u001b[0m\u001b[0m\n",
      "\u001b[0;31mKeyboardInterrupt\u001b[0m: "
     ]
    }
   ],
   "source": [
    "sets = set()\n",
    "with open(\"../sequences/combined_genomes_named.fa\", \"r\") as fh:\n",
    "    for line in fh:\n",
    "        line_stripped = line.strip()\n",
    "        length = len(line_stripped)\n",
    "        if len(line_stripped) < 50:\n",
    "            sets.add(len(line_stripped))"
   ]
  },
  {
   "cell_type": "code",
   "execution_count": 92,
   "metadata": {},
   "outputs": [],
   "source": [
    "with open(\"../sequences/test_file.txt\", \"r\") as fin:\n",
    "    with open(\"../sequences/test_file_2.txt\", \"w\") as fout:\n",
    "        for line in fin:\n",
    "            if line.startswith(\">\"):\n",
    "                line_new = line.replace(line[:], line[0:49])\n",
    "                fout.write(\"{}\\n\".format(line_new))\n",
    "            else: \n",
    "                fout.write(line)"
   ]
  },
  {
   "cell_type": "code",
   "execution_count": 93,
   "metadata": {},
   "outputs": [
    {
     "name": "stdout",
     "output_type": "stream",
     "text": [
      ">contig_1 [organism=Drosophila insularis] [isolate\r\n",
      "ACATATATAGAAACAGATATGTTTATATTGTGATAAAAATATAAAAGTATTACTTAAAACCGCATTAAAA\r\n",
      "TATACACACAAAAACCAGCGTGGCAATATATATATCTTTTTTTTTGACTTATCACTTTGGCTGCTGTTGT\r\n",
      "TGTTTTGCTTTTTTGCTGTTCTGCTCATTTTTCATAAATATTCATTGGTATTCTAGCTACCCAAAAAATC\r\n",
      "CACATCATCTCTTCCTGTCCCATCGCCCACACTCTGTCTCTCTGTGTGTCTCTCTGTCAAGTTTACTTCT\r\n",
      "TTTGACTCCATAGAATATTCATACATAATTTTTTTGCTATCTGCGGCAGCTAGAAGCGTCTTTGTTTTAT\r\n",
      "TTATAACATTctctctgctcttgtctctgtccgctgtgcttttttttttcttcttgtgctgtgtgTTTTA\r\n",
      "TCGCACTTTTATCTAGTTTGTCAACGTTATCAGGGaacagcaacaaccacaacaacaaTACTAGGAGTAA\r\n",
      "GGCGAGCCGCTCTATGAGCTACATCAACCTGCCGCTGTTTCCCCCTGCCCTGTAAAACCGAAAGCCACAT\r\n",
      "GGCAAATGAAGGCAGCGTATTAGATTTGAcgcaagactcgcggtgtgtaaaagcgttcgtttttatgttc\r\n"
     ]
    }
   ],
   "source": [
    "! head ../sequences/test_file_2.txt"
   ]
  },
  {
   "cell_type": "code",
   "execution_count": null,
   "metadata": {
    "collapsed": true
   },
   "outputs": [],
   "source": []
  }
 ],
 "metadata": {
  "kernelspec": {
   "display_name": "Python 3",
   "language": "python",
   "name": "python3"
  },
  "language_info": {
   "codemirror_mode": {
    "name": "ipython",
    "version": 3
   },
   "file_extension": ".py",
   "mimetype": "text/x-python",
   "name": "python",
   "nbconvert_exporter": "python",
   "pygments_lexer": "ipython3",
   "version": "3.6.3"
  }
 },
 "nbformat": 4,
 "nbformat_minor": 2
}
