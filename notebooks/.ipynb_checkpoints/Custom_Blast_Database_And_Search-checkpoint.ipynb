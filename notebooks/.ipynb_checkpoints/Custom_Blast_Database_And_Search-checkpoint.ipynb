{
 "cells": [
  {
   "cell_type": "code",
   "execution_count": 1,
   "metadata": {},
   "outputs": [
    {
     "name": "stdout",
     "output_type": "stream",
     "text": [
      "/Users/giana.cirolia/anaconda3/bin/python\n",
      "/Users/giana.cirolia/anaconda3/bin/pip\n",
      "Requirement already satisfied: pip in /Users/giana.cirolia/anaconda3/lib/python3.6/site-packages (20.3.3)\n",
      "Collecting pip\n",
      "  Downloading pip-21.0-py3-none-any.whl (1.5 MB)\n",
      "\u001b[K     |████████████████████████████████| 1.5 MB 632 kB/s eta 0:00:0104\n",
      "\u001b[?25hInstalling collected packages: pip\n",
      "  Attempting uninstall: pip\n",
      "    Found existing installation: pip 20.3.3\n",
      "    Uninstalling pip-20.3.3:\n",
      "      Successfully uninstalled pip-20.3.3\n",
      "Successfully installed pip-21.0\n",
      "Requirement already satisfied: biopython in /Users/giana.cirolia/anaconda3/lib/python3.6/site-packages (1.78)\n",
      "Requirement already satisfied: numpy in /Users/giana.cirolia/anaconda3/lib/python3.6/site-packages (from biopython) (1.15.1)\n",
      "Requirement already satisfied: biopython in /Users/giana.cirolia/anaconda3/lib/python3.6/site-packages (1.78)\n",
      "Collecting biopython\n",
      "  Using cached biopython-1.78-cp36-cp36m-macosx_10_9_x86_64.whl (2.2 MB)\n",
      "  Downloading biopython-1.77-cp36-cp36m-macosx_10_9_x86_64.whl (2.3 MB)\n",
      "\u001b[K     |████████████████████████████████| 2.3 MB 1.9 MB/s eta 0:00:01     |█████████████▉                  | 972 kB 269 kB/s eta 0:00:05\n",
      "\u001b[?25hRequirement already satisfied: numpy in /Users/giana.cirolia/anaconda3/lib/python3.6/site-packages (from biopython) (1.15.1)\n",
      "1.78\n"
     ]
    }
   ],
   "source": [
    "# check installation of python \n",
    "! which python\n",
    "\n",
    "# check installation of pip\n",
    "! which pip\n",
    "\n",
    "# upgrade pip if needed \n",
    "! pip install --upgrade pip\n",
    "\n",
    "# install biopython\n",
    "! pip install biopython\n",
    "\n",
    "# upgrade biopython if needed \n",
    "\n",
    "! pip install biopython --upgrade\n",
    "\n"
   ]
  },
  {
   "cell_type": "code",
   "execution_count": null,
   "metadata": {
    "collapsed": true
   },
   "outputs": [],
   "source": [
    "# import biopython and check import\n",
    "import Bio\n",
    "print(Bio.__version__)\n",
    "# import biopython and check import\n"
   ]
  }
 ],
 "metadata": {
  "kernelspec": {
   "display_name": "Python 3",
   "language": "python",
   "name": "python3"
  },
  "language_info": {
   "codemirror_mode": {
    "name": "ipython",
    "version": 3
   },
   "file_extension": ".py",
   "mimetype": "text/x-python",
   "name": "python",
   "nbconvert_exporter": "python",
   "pygments_lexer": "ipython3",
   "version": "3.6.3"
  }
 },
 "nbformat": 4,
 "nbformat_minor": 2
}
