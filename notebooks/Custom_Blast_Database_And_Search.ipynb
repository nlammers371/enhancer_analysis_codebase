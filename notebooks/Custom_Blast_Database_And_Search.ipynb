{
 "cells": [
  {
   "cell_type": "code",
   "execution_count": 1,
   "metadata": {},
   "outputs": [
    {
     "name": "stdout",
     "output_type": "stream",
     "text": [
      "/Users/giana.cirolia/anaconda3/bin/python\n",
      "/Users/giana.cirolia/anaconda3/bin/pip\n",
      "Requirement already satisfied: pip in /Users/giana.cirolia/anaconda3/lib/python3.6/site-packages (20.3.3)\n",
      "Collecting pip\n",
      "  Downloading pip-21.0-py3-none-any.whl (1.5 MB)\n",
      "\u001b[K     |████████████████████████████████| 1.5 MB 632 kB/s eta 0:00:0104\n",
      "\u001b[?25hInstalling collected packages: pip\n",
      "  Attempting uninstall: pip\n",
      "    Found existing installation: pip 20.3.3\n",
      "    Uninstalling pip-20.3.3:\n",
      "      Successfully uninstalled pip-20.3.3\n",
      "Successfully installed pip-21.0\n",
      "Requirement already satisfied: biopython in /Users/giana.cirolia/anaconda3/lib/python3.6/site-packages (1.78)\n",
      "Requirement already satisfied: numpy in /Users/giana.cirolia/anaconda3/lib/python3.6/site-packages (from biopython) (1.15.1)\n",
      "Requirement already satisfied: biopython in /Users/giana.cirolia/anaconda3/lib/python3.6/site-packages (1.78)\n",
      "Collecting biopython\n",
      "  Using cached biopython-1.78-cp36-cp36m-macosx_10_9_x86_64.whl (2.2 MB)\n",
      "  Downloading biopython-1.77-cp36-cp36m-macosx_10_9_x86_64.whl (2.3 MB)\n",
      "\u001b[K     |████████████████████████████████| 2.3 MB 1.9 MB/s eta 0:00:01     |█████████████▉                  | 972 kB 269 kB/s eta 0:00:05\n",
      "\u001b[?25hRequirement already satisfied: numpy in /Users/giana.cirolia/anaconda3/lib/python3.6/site-packages (from biopython) (1.15.1)\n",
      "1.78\n"
     ]
    }
   ],
   "source": [
    "# check installation of python \n",
    "! which python\n",
    "\n",
    "# check installation of pip\n",
    "! which pip\n",
    "\n",
    "# upgrade pip if needed \n",
    "! pip install --upgrade pip\n",
    "\n",
    "# install biopython\n",
    "! pip install biopython\n",
    "\n",
    "# upgrade biopython if needed \n",
    "\n",
    "! pip install biopython --upgrade\n",
    "\n",
    "# import biopython and check import\n",
    "import Bio\n",
    "print(Bio.__version__)"
   ]
  },
  {
   "cell_type": "code",
   "execution_count": 5,
   "metadata": {
    "collapsed": true
   },
   "outputs": [],
   "source": [
    "## import command line interface for biopython blasts \n",
    "## more documentation here https://biopython.org/docs/1.75/api/Bio.Blast.Applications.html\n",
    "from Bio.Blast.Applications import NcbiblastnCommandline"
   ]
  },
  {
   "cell_type": "code",
   "execution_count": 95,
   "metadata": {},
   "outputs": [
    {
     "name": "stdout",
     "output_type": "stream",
     "text": [
      "blastn -out ../database/output/D.mel_blast.xml -outfmt 5 -query ../sequences/queries/D.mel_multiple_seqs.fasta -db ../database/genomes_db -evalue 100 -strand both -task dc-megablast\n"
     ]
    },
    {
     "data": {
      "text/plain": [
       "('', '')"
      ]
     },
     "execution_count": 95,
     "metadata": {},
     "output_type": "execute_result"
    }
   ],
   "source": [
    "! mkdir -p database/output\n",
    "cline = NcbiblastnCommandline(query=\"../sequences/queries/D.mel_multiple_seqs.fasta\", db=\"../database/genomes_db\", strand=\"both\",\n",
    "                              evalue=100, out=\"../database/output/D.mel_blast.xml\", outfmt=5, task= \"dc-megablast\")\n",
    "cline\n",
    "print(cline)\n",
    "cline()"
   ]
  },
  {
   "cell_type": "code",
   "execution_count": 113,
   "metadata": {},
   "outputs": [
    {
     "name": "stdout",
     "output_type": "stream",
     "text": [
      "******Alignment******\n",
      "sequence: contig_1--organism-Drosophila-melanogaster No definition line\n",
      "length of contig: 21632781\n",
      "query_match_start_residue: 1, query_match_end_residue: 798\n",
      "sequence match start: 6255858, sequence match end: 6256655\n",
      "e value: 0.0\n",
      "BLAST score: 1596.0\n",
      "AATATAACCCAATAATTTGAAGTAACTGGCAGGAGCGAGGTATCCTTCCTGGTTACCCGGTACTGCATAACAATGGAACCCGAACCGTAACTGGGACAGA\n",
      "||||||||||||||||||||||||||||||||||||||||||||||||||||||||||||||||||||||||||||||||||||||||||||||||||||\n",
      "AATATAACCCAATAATTTGAAGTAACTGGCAGGAGCGAGGTATCCTTCCTGGTTACCCGGTACTGCATAACAATGGAACCCGAACCGTAACTGGGACAGA\n",
      "******Alignment******\n",
      "sequence: contig_529--organism-Drosophila-sechellia No definition line\n",
      "length of contig: 19765707\n",
      "query_match_start_residue: 1, query_match_end_residue: 798\n",
      "sequence match start: 15052703, sequence match end: 15051916\n",
      "e value: 0.0\n",
      "BLAST score: 1421.0\n",
      "AATATAACCCAATAATTTGAAGTAACTGGCAGGAGCGAGGTATCCTTCCTGGTTACCCGGTACTGCATAACAATGGAACCCGAACCGTAACTGGGACAGA\n",
      "||||||||||||||||||||||||||| |||||||||||||||||||| |||||||||||||||||||||||||||||||||||||||||||||||||||\n",
      "AATATAACCCAATAATTTGAAGTAACTCGCAGGAGCGAGGTATCCTTCTTGGTTACCCGGTACTGCATAACAATGGAACCCGAACCGTAACTGGGACAGA\n",
      "******Alignment******\n",
      "sequence: contig_203--organism-Drosophila-simulans No definition line\n",
      "length of contig: 19728918\n",
      "query_match_start_residue: 1, query_match_end_residue: 798\n",
      "sequence match start: 4606759, sequence match end: 4607541\n",
      "e value: 0.0\n",
      "BLAST score: 1411.0\n",
      "AATATAACCCAATAATTTGAAGTAACTGGCAGGAGCGAGGTATCCTTCCTGGTTACCCGGTACTGCATAACAATGGAACCCGAACCGTAACTGGGACAGA\n",
      "||||||||||||||||||||||||||| ||||||||||||||||||||||||||||||||||||||||||||||||||||||||||||||||||||||||\n",
      "AATATAACCCAATAATTTGAAGTAACTCGCAGGAGCGAGGTATCCTTCCTGGTTACCCGGTACTGCATAACAATGGAACCCGAACCGTAACTGGGACAGA\n",
      "******Alignment******\n",
      "sequence: contig_22--organism-Drosophila-mauritiana No definition line\n",
      "length of contig: 13594492\n",
      "query_match_start_residue: 1, query_match_end_residue: 798\n",
      "sequence match start: 3990540, sequence match end: 3991335\n",
      "e value: 0.0\n",
      "BLAST score: 1405.0\n",
      "AATATAACCCAATAATTTGAAGTAACTGGCAGGAGCGAGGTATCCTTCCTGGTTACCCGGTACTGCATAACAATGGAACCCGAACCGTAACTGGGACAGA\n",
      "||||||||||||||||||||||||||| ||||||||||||||||||||||||||||||||||||||||||||||||||||||||||||||||||||||||\n",
      "AATATAACCCAATAATTTGAAGTAACTCGCAGGAGCGAGGTATCCTTCCTGGTTACCCGGTACTGCATAACAATGGAACCCGAACCGTAACTGGGACAGA\n",
      "******Alignment******\n",
      "sequence: contig_380--organism-Chymomyza-costata No definition line\n",
      "length of contig: 25692334\n",
      "query_match_start_residue: 138, query_match_end_residue: 247\n",
      "sequence match start: 22382654, sequence match end: 22382784\n",
      "e value: 7.84436e-09\n",
      "BLAST score: 73.0\n",
      "GTTAATCCGTTTGCCATCAGCGAGATTATTAGTCAA---------TTGCAGTTGCAGCG--------TTTCGCTTTC-GTCCTCGTTTCACTT---TCGA\n",
      "||||||||||||||||| ||||| ||||||||||||         ||  | ||| | ||        |||| ||||| ||   | |||   ||   | ||\n",
      "GTTAATCCGTTTGCCATAAGCGACATTATTAGTCAATTTTCGTGTTTAAAATTGAAACGGACAAGAATTTCACTTTCTGTGTGCCTTTGCGTTCCGTAGA\n"
     ]
    }
   ],
   "source": [
    "## parsingg XML blast output for one test record \n",
    "## https://biopython.org/docs/1.75/api/Bio.Blast.Record.html\n",
    "## https://biopython.org/docs/1.75/api/Bio.Blast.NCBIXML.html\n",
    "\n",
    "from Bio.Blast import NCBIXML\n",
    "\n",
    "record_handle = open(\"../database/output/D.mel_blast.xml\", 'r')\n",
    "\n",
    "blast_records = NCBIXML.parse(record_handle)\n",
    "blast_record = next(blast_records)\n",
    "\n",
    "E_VALUE_THRESH = 1e-7 # this is the number of random hits expected at the same blast score level as your hit\n",
    "MATCH_LENGTH = 40 # this is the number of residues you would like to match to local but non continious region\n",
    "\n",
    "for alignment in blast_record.alignments:\n",
    "    for hsp in alignment.hsps:\n",
    "        contig_length= alignment.length\n",
    "        contig_name = alignment.title\n",
    "        query_match_start = hsp.query_start\n",
    "        query_match_end = hsp.query_end\n",
    "        contig_match_start = hsp.sbjct_start\n",
    "        contig_match_end = hsp.sbjct_end\n",
    "        total_match = query_match_end - query_match_start\n",
    "        e_value = hsp.expect\n",
    "        BLAST_score = hsp.score      \n",
    "        if hsp.expect< E_VALUE_THRESH and total_match > MATCH_LENGTH:\n",
    "            print(\"******Alignment******\")\n",
    "            print(\"sequence:\", contig_name) ## name of contig in file \n",
    "            print(\"length of contig: {}\".format(contig_length)) ## length of whole contig\n",
    "            print(\"query_match_start_residue: {}, query_match_end_residue: {}\".format(query_match_start, query_match_end))\n",
    "            print(\"sequence match start: {}, sequence match end: {}\".format(contig_match_start , contig_match_end))\n",
    "            print(\"e value:\", e_value)\n",
    "            print(\"BLAST score:\", BLAST_score)\n",
    "            print(hsp.query[0:100]) ## search seq\n",
    "            print(hsp.match[0:100]) ## lines connecting them\n",
    "            print(hsp.sbjct[0:100]) ## contig matched to \n",
    "            \n",
    "\n",
    "\n"
   ]
  },
  {
   "cell_type": "code",
   "execution_count": 112,
   "metadata": {},
   "outputs": [
    {
     "name": "stdout",
     "output_type": "stream",
     "text": [
      "\n",
      "\n",
      "query: dmel_stripe2_full_jake\n",
      "match: contig_1--organism-Drosophila-melanogaster No definition line \n",
      "match: contig_529--organism-Drosophila-sechellia No definition line \n",
      "match: contig_203--organism-Drosophila-simulans No definition line \n",
      "match: contig_22--organism-Drosophila-mauritiana No definition line \n",
      "match: contig_380--organism-Chymomyza-costata No definition line \n",
      "\n",
      "\n",
      "query: dmel_stripe2_minimal_bronsky\n",
      "match: contig_1--organism-Drosophila-melanogaster No definition line \n",
      "match: contig_529--organism-Drosophila-sechellia No definition line \n",
      "match: contig_203--organism-Drosophila-simulans No definition line \n",
      "match: contig_22--organism-Drosophila-mauritiana No definition line \n",
      "match: contig_380--organism-Chymomyza-costata No definition line \n",
      "\n",
      "\n",
      "query: dmel_stripe2_gene_NCBI\n",
      "match: contig_1--organism-Drosophila-melanogaster No definition line \n",
      "match: contig_529--organism-Drosophila-sechellia No definition line \n",
      "match: contig_22--organism-Drosophila-mauritiana No definition line \n",
      "match: contig_203--organism-Drosophila-simulans No definition line \n",
      "match: contig_380--organism-Chymomyza-costata No definition line \n"
     ]
    }
   ],
   "source": [
    "E_VALUE_THRESH = 1e-7\n",
    "for record in NCBIXML.parse(open(\"../database/output/D.mel_blast.xml\", 'r')): \n",
    "     if record.alignments: \n",
    "        print(\"\\n\") \n",
    "        print(\"query: %s\" % record.query[:100]) \n",
    "        for align in record.alignments: \n",
    "           for hsp in align.hsps: \n",
    "              if hsp.expect < E_VALUE_THRESH: \n",
    "                 print(\"match: %s \" % align.title[:100])"
   ]
  },
  {
   "cell_type": "code",
   "execution_count": 94,
   "metadata": {},
   "outputs": [
    {
     "name": "stdout",
     "output_type": "stream",
     "text": [
      "lists overlap entirely\n"
     ]
    }
   ],
   "source": [
    "from collections import defaultdict \n",
    "\n",
    "E_VALUE_THRESH = .01\n",
    "\n",
    "results = defaultdict(list)\n",
    "\n",
    "for record in NCBIXML.parse(open(\"../database/output/D.mel_blast.xml\", 'r')): \n",
    "     if record.descriptions: \n",
    "        for desc in record.descriptions:\n",
    "            if desc.e < E_VALUE_THRESH:\n",
    "                results[record.query].append(desc.title)\n",
    "\n",
    "if list(results[\"dmel_stripe2_full_jake\"]).sort() == list(results[\"dmel_stripe2_minimal_bronsky\"]).sort():\n",
    "    print(\"lists overlap entirely\")\n",
    "\n",
    "                    "
   ]
  },
  {
   "cell_type": "code",
   "execution_count": null,
   "metadata": {
    "collapsed": true
   },
   "outputs": [],
   "source": []
  }
 ],
 "metadata": {
  "kernelspec": {
   "display_name": "Python 3",
   "language": "python",
   "name": "python3"
  },
  "language_info": {
   "codemirror_mode": {
    "name": "ipython",
    "version": 3
   },
   "file_extension": ".py",
   "mimetype": "text/x-python",
   "name": "python",
   "nbconvert_exporter": "python",
   "pygments_lexer": "ipython3",
   "version": "3.6.3"
  }
 },
 "nbformat": 4,
 "nbformat_minor": 2
}
