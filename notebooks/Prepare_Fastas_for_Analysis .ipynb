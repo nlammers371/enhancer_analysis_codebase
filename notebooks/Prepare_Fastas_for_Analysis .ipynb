{
 "cells": [
  {
   "cell_type": "code",
   "execution_count": 36,
   "metadata": {
    "collapsed": true
   },
   "outputs": [],
   "source": [
    "## fasta files used for this analysis are whole genome assemblies from \n",
    "## for custom db they need to be concatinated into one fasta file\n",
    "## dowload fasta files and concatenate into one file\n",
    "## examples\n",
    "## for our test simulation I am using C.costata, D.mel, S.sech, D.sim, D.maur ( sech, sim, mar = close to mel ,cos = farthest)\n",
    "\n",
    "#! mkdir -p ../sequences\n",
    "#! cat ../sequences/D.mauritiana.fasta ../sequences/D.melanogaster.fasta ../sequences/D.sechellia.fasta ../sequences/D.simulans.fasta ../sequences/C.costata.fasta > ../sequences/combined_genomes.fasta\n",
    "# for more sequences\n",
    "# ! cat *fasta > many_seqs.fa\n",
    "# use this in the folder where you have all of your fastas "
   ]
  },
  {
   "cell_type": "code",
   "execution_count": 1,
   "metadata": {},
   "outputs": [
    {
     "name": "stdout",
     "output_type": "stream",
     "text": [
      "       0\r\n"
     ]
    }
   ],
   "source": [
    "## make db will throw an error if any duplicate ids so we check for this\n",
    "## some fasta files may still have duplicates and this will cause an error in make db, therefore we need to remove duplicates fasta files\n",
    "## this can be done in 2 steps\n",
    "## step 1) evaluate sequences/test_genomes_modified.fasta for duplicates and count if there are duplicates. \n",
    "## grep searches for > (start of fasta id line), uniq d prints out any duplicated non unique entries, wc -l counts the lines\n",
    "! cat ../sequences/combined_genomes.fa | grep '^>' | sort | uniq -d | wc -l "
   ]
  },
  {
   "cell_type": "code",
   "execution_count": 4,
   "metadata": {
    "collapsed": true
   },
   "outputs": [],
   "source": [
    "## make db is particular about format of id so here we need to process the id's from our data to be compatable with blast makedb\n",
    "## to parse ids for make db need 1) unique entries 2) names to not have blank spaces and other characters/less than 50 long\n",
    "## for these files, we are keeping all alpha numberics and removing the end isolate number and linking names with \"-\"\n",
    "## note I later needed to make a small python script to make all the sequences less than 50 characters long..\n",
    "! sed -i 's/[^a-zA-Z0-9>_]/-/g; s/--organism//; s/---isolate//' ../sequences/combined_genomes.fasta > ../sequences/combined_genomes_modified_ids.fasta"
   ]
  },
  {
   "cell_type": "code",
   "execution_count": 14,
   "metadata": {},
   "outputs": [
    {
     "name": "stdout",
     "output_type": "stream",
     "text": [
      "cat: ../sequences/combined_genomes_modified_ids.fasta: No such file or directory\r\n",
      "       0\r\n"
     ]
    }
   ],
   "source": [
    "## total sequences. this should be the number of sequences in output database. \n",
    "! cat ../sequences/combined_genomes_modified_ids.fasta | grep \">\" | wc -l\n"
   ]
  },
  {
   "cell_type": "code",
   "execution_count": 16,
   "metadata": {},
   "outputs": [
    {
     "name": "stdout",
     "output_type": "stream",
     "text": [
      "\n",
      "\n",
      "Building a new DB, current time: 02/07/2021 15:43:01\n",
      "New DB name:   /Users/giana.cirolia/enhancer_analysis_codebase/database/all_genomes_db\n",
      "New DB title:  ../sequences/analysis_files/combined_genomes_short_names\n",
      "Sequence type: Nucleotide\n",
      "Keep MBits: T\n",
      "Maximum file size: 1000000000B\n",
      "Adding sequences from FASTA; added 97515 sequences in 249.802 seconds.\n",
      "\n",
      "\n"
     ]
    }
   ],
   "source": [
    "# make database of sequences from concatinated sequence files (currently having issue bc won't parse ids correctly...)\n",
    "# I removed the -parse_seqids and it made a list of files with db base name (need unique files for this )\n",
    "# we will need to figure out why this is not working and add parse ids later \n",
    "! mkdir -p database\n",
    "! makeblastdb -dbtype nucl -in ../sequences/analysis_files/combined_genomes_short_names  -out ../database/all_genomes_db -blastdb_version 5 -parse_seqids"
   ]
  },
  {
   "cell_type": "code",
   "execution_count": 1,
   "metadata": {},
   "outputs": [
    {
     "name": "stdout",
     "output_type": "stream",
     "text": [
      "\n",
      "\n",
      "Building a new DB, current time: 02/04/2021 10:26:02\n",
      "New DB name:   /Users/giana.cirolia/enhancer_analysis_codebase/database/whole_contig_db\n",
      "New DB title:  ../sequences/contigs_aligned_to_eve_gene_and_enhancer.fasta\n",
      "Sequence type: Nucleotide\n",
      "Keep MBits: T\n",
      "Maximum file size: 1000000000B\n",
      "Adding sequences from FASTA; added 95 sequences in 21.2897 seconds.\n",
      "\n",
      "\n"
     ]
    }
   ],
   "source": [
    "# make database of sequences from concatinated sequence files (currently having issue bc won't parse ids correctly...)\n",
    "# I removed the -parse_seqids and it made a list of files with db base name (need unique files for this )\n",
    "# we will need to figure out why this is not working and add parse ids later \n",
    "! mkdir -p database\n",
    "! makeblastdb -dbtype nucl -in ../sequences/contigs_aligned_to_eve_gene_and_enhancer.fasta  -out ../database/whole_contig_db -blastdb_version 5 -parse_seqids\n"
   ]
  },
  {
   "cell_type": "code",
   "execution_count": 4,
   "metadata": {},
   "outputs": [
    {
     "name": "stdout",
     "output_type": "stream",
     "text": [
      "\n",
      "\n",
      "Building a new DB, current time: 02/04/2021 11:08:34\n",
      "New DB name:   /Users/giana.cirolia/enhancer_analysis_codebase/database/larger_contigs_db\n",
      "New DB title:  ../sequences/eve_enhancer_extracted.fasta\n",
      "Sequence type: Nucleotide\n",
      "Keep MBits: T\n",
      "Maximum file size: 1000000000B\n",
      "Adding sequences from FASTA; added 73 sequences in 0.021543 seconds.\n",
      "\n",
      "\n"
     ]
    }
   ],
   "source": [
    "! mkdir -p database\n",
    "! makeblastdb -dbtype nucl -in ../sequences/eve_enhancer_extracted.fasta  -out ../database/larger_contigs_db -blastdb_version 5 -parse_seqids"
   ]
  },
  {
   "cell_type": "code",
   "execution_count": 5,
   "metadata": {},
   "outputs": [
    {
     "name": "stdout",
     "output_type": "stream",
     "text": [
      "BLAST Database error: No alias or index file found for nucleotide database [../database/larger_contig_db] in search path [/Users/giana.cirolia/enhancer_analysis_codebase/notebooks::]\r\n"
     ]
    }
   ],
   "source": [
    "# check that your db created a database \n",
    "! blastdbcmd -db ../database/larger_contig_db -info"
   ]
  },
  {
   "cell_type": "code",
   "execution_count": 13,
   "metadata": {},
   "outputs": [
    {
     "name": "stdout",
     "output_type": "stream",
     "text": [
      "14783\r\n",
      "13823\r\n",
      "14784\r\n",
      "14771\r\n",
      "13804\r\n",
      "13752\r\n",
      "13758\r\n",
      "14853\r\n",
      "14730\r\n",
      "13807\r\n",
      "14746\r\n",
      "14780\r\n",
      "13835\r\n",
      "13831\r\n",
      "14780\r\n",
      "13769\r\n",
      "13834\r\n",
      "14063\r\n",
      "14548\r\n",
      "13931\r\n",
      "13781\r\n",
      "14142\r\n",
      "14462\r\n",
      "13980\r\n",
      "13806\r\n",
      "13978\r\n",
      "14622\r\n",
      "14625\r\n",
      "14339\r\n",
      "14261\r\n",
      "13996\r\n",
      "14140\r\n",
      "14488\r\n",
      "14140\r\n",
      "14367\r\n",
      "14210\r\n",
      "14395\r\n",
      "14440\r\n",
      "14141\r\n",
      "14415\r\n",
      "14415\r\n",
      "14426\r\n",
      "14168\r\n",
      "14440\r\n",
      "14266\r\n",
      "14233\r\n",
      "14334\r\n",
      "14469\r\n",
      "14430\r\n",
      "14263\r\n",
      "14266\r\n",
      "14139\r\n",
      "14139\r\n",
      "14456\r\n",
      "14416\r\n",
      "14263\r\n",
      "14263\r\n",
      "14423\r\n",
      "14266\r\n",
      "14398\r\n",
      "14138\r\n",
      "14444\r\n",
      "14337\r\n",
      "14263\r\n",
      "14263\r\n",
      "14452\r\n",
      "14464\r\n",
      "14160\r\n",
      "14337\r\n",
      "14263\r\n",
      "14263\r\n",
      "14156\r\n",
      "14182\r\n"
     ]
    }
   ],
   "source": [
    "# count the number of sequence ids in your data base \n",
    "! blastdbcmd -db ../database/larger_contigs_db -entry all -outfmt %l"
   ]
  },
  {
   "cell_type": "code",
   "execution_count": 38,
   "metadata": {},
   "outputs": [
    {
     "name": "stdout",
     "output_type": "stream",
     "text": [
      "^C\r\n"
     ]
    }
   ],
   "source": [
    "! cat ../sequences/combined_genomes_short_names| grep \">\" | awk -F\"-\" '{print$2\"-\"$3\"-\"$4\"-\"$5}' | sort | uniq -d | wc -l"
   ]
  },
  {
   "cell_type": "code",
   "execution_count": 39,
   "metadata": {
    "collapsed": true
   },
   "outputs": [],
   "source": [
    "! blastdbcmd -db ../database/genomes_db -entry all -outfmt %i | awk -F'-' '{print$2\"-\"$3\"-\"$4\"-\"$5}'| sort | uniq -d > ../sequences/queries/species_in_db.txt"
   ]
  },
  {
   "cell_type": "code",
   "execution_count": 12,
   "metadata": {},
   "outputs": [
    {
     "name": "stdout",
     "output_type": "stream",
     "text": [
      "   97515\r\n"
     ]
    }
   ],
   "source": [
    "! cat ../sequences/combined_genomes_short_names | grep \">\" | wc -l"
   ]
  },
  {
   "cell_type": "code",
   "execution_count": 11,
   "metadata": {
    "collapsed": true
   },
   "outputs": [],
   "source": [
    "## list of input species for comparison later\n",
    "! blastdbcmd -db ../database/genomes_db -entry all -outfmt %i | awk -F\"--\" '{print $1}' | uniq -d > ../sequences/input_species.txt"
   ]
  },
  {
   "cell_type": "code",
   "execution_count": 10,
   "metadata": {
    "collapsed": true
   },
   "outputs": [],
   "source": [
    "! cat ../sequences/input_species.txt"
   ]
  },
  {
   "cell_type": "code",
   "execution_count": null,
   "metadata": {
    "collapsed": true
   },
   "outputs": [],
   "source": [
    "# if sequence ids equals input fastas you are correct. Here our sequence ids are not the names we want but its a start."
   ]
  },
  {
   "cell_type": "code",
   "execution_count": 33,
   "metadata": {
    "collapsed": true
   },
   "outputs": [],
   "source": [
    "! sed 's/[^a-zA-Z0-9>_]/-/g; s/--organism//; s/---isolate//' ../sequences/mult_isolates/test.txt > test_changed.txt"
   ]
  },
  {
   "cell_type": "code",
   "execution_count": 2,
   "metadata": {
    "collapsed": true
   },
   "outputs": [],
   "source": [
    "## shorten name of sequencing files so are compatible with makdb \n",
    "with open(\"../sequences/combined_genomes_named.fa\", \"r\") as fin:\n",
    "    with open(\"../sequences/combined_genomes_short_names\", \"w\") as fout:\n",
    "        for line in fin:\n",
    "            if line.startswith(\">\"):\n",
    "                line_new = line.replace(line[:], line[0:49])\n",
    "                fout.write(\"{}\\n\".format(line_new))\n",
    "            else: \n",
    "                fout.write(line)"
   ]
  },
  {
   "cell_type": "code",
   "execution_count": null,
   "metadata": {
    "collapsed": true
   },
   "outputs": [],
   "source": [
    "! blastdbcmd -db ../database/genomes_db -entry all -outfmt %i"
   ]
  },
  {
   "cell_type": "code",
   "execution_count": null,
   "metadata": {
    "collapsed": true
   },
   "outputs": [],
   "source": []
  }
 ],
 "metadata": {
  "kernelspec": {
   "display_name": "Python 3",
   "language": "python",
   "name": "python3"
  },
  "language_info": {
   "codemirror_mode": {
    "name": "ipython",
    "version": 3
   },
   "file_extension": ".py",
   "mimetype": "text/x-python",
   "name": "python",
   "nbconvert_exporter": "python",
   "pygments_lexer": "ipython3",
   "version": "3.6.3"
  }
 },
 "nbformat": 4,
 "nbformat_minor": 2
}
