{
 "cells": [
  {
   "cell_type": "code",
   "execution_count": 2,
   "metadata": {
    "collapsed": true
   },
   "outputs": [],
   "source": [
    "## fasta files used for this analysis are whole genome assemblies from \n",
    "## for custom db they need to be concatinated into one fasta file\n",
    "## dowload fasta files and concatenate into one file\n",
    "## examples\n",
    "## for our test simulation I am using C.costata, D.mel, S.sech, D.sim, D.maur ( sech, sim, mar = close to mel ,cos = farthest)\n",
    "! mkdir -p sequences\n",
    "! cat sequences/D.mauritiana.fasta sequences/D.melanogaster.fasta sequences/D.sechellia.fasta sequences/D.simulans.fasta sequences/C.costata.fasta > sequences/combined_genomes.fasta "
   ]
  },
  {
   "cell_type": "code",
   "execution_count": null,
   "metadata": {
    "collapsed": true
   },
   "outputs": [],
   "source": [
    "## make db will throw an error if any duplicate ids so we check for this\n",
    "## some fasta files may still have duplicates and this will cause an error in make db, therefore we need to remove duplicates fasta files\n",
    "## this can be done in 2 steps\n",
    "## step 1) evaluate sequences/test_genomes_modified.fasta for duplicates and count if there are duplicates. \n",
    "## grep searches for > (start of fasta id line), uniq d prints out any duplicated non unique entries, wc -l counts the lines\n",
    "! cat sequences/combined_genomes.fasta | grep '^>' | sort | uniq -d | wc -l "
   ]
  },
  {
   "cell_type": "code",
   "execution_count": 4,
   "metadata": {
    "collapsed": true
   },
   "outputs": [],
   "source": [
    "## make db is particular about format of id so here we need to process the id's from our data to be compatable with blast makedb\n",
    "## to parse ids for make db need 1) unique entries 2) names to not have blank spaces and other characters/less than 50 long\n",
    "## for these files, we are keeping all alpha numberics and removing the end isolate number and linking names with \"-\"\n",
    "! sed 's/[^a-zA-Z0-9>_]/-/g; s/---isolate.*//' sequences/combined_genomes.fasta > sequences/combined_genomes_modified_ids.fasta"
   ]
  },
  {
   "cell_type": "code",
   "execution_count": 10,
   "metadata": {},
   "outputs": [
    {
     "name": "stdout",
     "output_type": "stream",
     "text": [
      "    2367\n",
      ">contig_1--organism-Drosophila-mauritiana\n",
      "gattccgagacagaaaagtcaacatgagccatacgctcacctggtctatactgaatatcaaattcgaaagattgcatgta\n",
      "cgaccaccactctatgaactctaaaggtcagttctatctttgtgggatgaggctttaagcgaattgcaatcagtaaacac\n",
      "aacaaaatgacggccatgcaagtaatggcgaaagtgttttatagaattcggtatacgcgattctgctgaagatgtcatct\n",
      "gctaaaatatttcgataactcgcggcttctgttcaatccggtgcagcgaaaatagtgccgtagccgacagaatcaaggcg\n",
      "tctgtgtggagcttcgatagaaaattgtgggtcgaatatagtaaggggacaggttcgttagttaaaatagatattacttt\n",
      "ttgccgtatttgttcatgctcaatttcacaaaaatgacccgctctttgaagtaaaggcgtaaagagggtttcacttcagt\n",
      "cagaaaacttgggtacaaattgtcgaaaatacgagcatcagctccaataaacgtctcaacagaaagtgacggactgggtg\n",
      "gaggtggcaaattcgaaagggtcgaattttcctgacggccgaatctcaccttgacttaactcgaaacccaaatattcaac\n",
      "acaagacttgagaaaggaacattttgtaatattaaaagaaaatccagcatgcgtaagtgcttttcttgcagtaattactc\n"
     ]
    }
   ],
   "source": [
    "## total sequences. this should be the number of sequences in output database. \n",
    "! cat sequences/combined_genomes_modified_ids.fasta | grep \">\" | wc -l\n",
    "! head sequences/combined_genomes_modified_ids.fasta"
   ]
  },
  {
   "cell_type": "code",
   "execution_count": 5,
   "metadata": {},
   "outputs": [
    {
     "name": "stdout",
     "output_type": "stream",
     "text": [
      "\n",
      "\n",
      "Building a new DB, current time: 01/23/2021 15:44:38\n",
      "New DB name:   /Users/giana.cirolia/enhancer_analysis_codebase/database/genomes_db\n",
      "New DB title:  sequences/combined_genomes_modified_ids.fasta\n",
      "Sequence type: Nucleotide\n",
      "Keep MBits: T\n",
      "Maximum file size: 1000000000B\n",
      "Adding sequences from FASTA; added 2367 sequences in 11.4137 seconds.\n",
      "\n",
      "\n"
     ]
    }
   ],
   "source": [
    "# make database of sequences from concatinated sequence files (currently having issue bc won't parse ids correctly...)\n",
    "# I removed the -parse_seqids and it made a list of files with db base name (need unique files for this )\n",
    "# we will need to figure out why this is not working and add parse ids later \n",
    "! mkdir -p database\n",
    "! makeblastdb -dbtype nucl -in sequences/combined_genomes_modified_ids.fasta  -out database/genomes_db -blastdb_version 5 -parse_seqids"
   ]
  },
  {
   "cell_type": "code",
   "execution_count": 6,
   "metadata": {},
   "outputs": [
    {
     "name": "stdout",
     "output_type": "stream",
     "text": [
      "Database: sequences/combined_genomes_modified_ids.fasta\r\n",
      "\t2,367 sequences; 871,498,291 total bases\r\n",
      "\r\n",
      "Date: Jan 23, 2021  3:44 PM\tLongest sequence: 35,111,255 bases\r\n",
      "\r\n",
      "BLASTDB Version: 5\r\n",
      "\r\n",
      "Volumes:\r\n",
      "\t/Users/giana.cirolia/enhancer_analysis_codebase/database/genomes_db\r\n"
     ]
    }
   ],
   "source": [
    "# check that your db created a database \n",
    "! blastdbcmd -db database/genomes_db -info"
   ]
  },
  {
   "cell_type": "code",
   "execution_count": 9,
   "metadata": {},
   "outputs": [
    {
     "name": "stdout",
     "output_type": "stream",
     "text": [
      "    2367\r\n"
     ]
    }
   ],
   "source": [
    "# count the number of sequence ids in your data base \n",
    "! blastdbcmd -db database/genomes_db -entry all -outfmt %i | wc -l"
   ]
  },
  {
   "cell_type": "code",
   "execution_count": null,
   "metadata": {
    "collapsed": true
   },
   "outputs": [],
   "source": [
    "# if sequence ids equals input fastas you are correct. Here our sequence ids are not the names we want but its a start."
   ]
  }
 ],
 "metadata": {
  "kernelspec": {
   "display_name": "Python 3",
   "language": "python",
   "name": "python3"
  },
  "language_info": {
   "codemirror_mode": {
    "name": "ipython",
    "version": 3
   },
   "file_extension": ".py",
   "mimetype": "text/x-python",
   "name": "python",
   "nbconvert_exporter": "python",
   "pygments_lexer": "ipython3",
   "version": "3.6.3"
  }
 },
 "nbformat": 4,
 "nbformat_minor": 2
}
