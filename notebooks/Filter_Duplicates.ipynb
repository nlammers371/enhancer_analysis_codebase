{
 "cells": [
  {
   "cell_type": "code",
   "execution_count": null,
   "metadata": {
    "collapsed": true
   },
   "outputs": [],
   "source": [
    "### code to come back to for filtering for duplicates if we need...\n",
    "\n",
    "## if duplicates \n",
    "## step 2) get a list of entries with duplicates removed to filter the fasta file for unique entries. \n",
    "\n",
    "! cat sequences/test_genomes_modified.fasta | grep '^>' | sort | uniq -c | awk -F' ' '{print $2}' | cut -c 2- > sequences/unique_entries.txt\n",
    "\n",
    "\n",
    "## check that you have removed duplicated entries, total sequences - duplicate entries should equal # fasta headers in file\n",
    "!  cat sequences/unique_entries.txt | wc -l\n",
    "! head sequences/unique_entries.txt\n",
    "\n",
    "if 2552 - 475 == 2077:\n",
    "    print(\"duplicates removed, 1 contig per organism\")\n",
    "\n",
    "## now with unique entries you can use filter your original fasta file for only the non duplicated entries \n",
    "## to do this you will need homebrew to execute the commad\n",
    "! brew install seqtk\n",
    "\n",
    "## testing filtering sequences \n",
    "! head -n 200 sequences/test_genomes_modified.fasta > sequences/input_genomes.fa \n",
    "! cat sequences/input_genomes.fa\n",
    "! head -1 sequences/test_genomes_modified.fasta | cut -c 2- > sequences/filter_fasta.txt\n",
    "! cat sequences/filter_fasta.txt\n",
    "\n",
    "\n",
    "! seqtk subseq sequences/input_genomes.fa sequences/filter_fasta.txt > sequences/test_genomes_no_dups.fasta\n",
    "\n",
    "\n",
    "# test works \n",
    "! cat sequences/test_genomes_no_dups.fasta | grep \">\"\n",
    "\n",
    "! head sequences/test_genomes_modified.fasta\n",
    "! head sequences/unique_entries.txt\n",
    "! seqtk subseq sequences/test_genomes_modified.fasta sequences/unique_entries.txt > sequences/no_duplicates.fasta\n",
    "\n",
    "\n",
    "! cat sequences/no_duplicates.fasta | grep \"contig_1--organism-Drosophila-mauritiana\""
   ]
  }
 ],
 "metadata": {
  "kernelspec": {
   "display_name": "Python 3",
   "language": "python",
   "name": "python3"
  },
  "language_info": {
   "codemirror_mode": {
    "name": "ipython",
    "version": 3
   },
   "file_extension": ".py",
   "mimetype": "text/x-python",
   "name": "python",
   "nbconvert_exporter": "python",
   "pygments_lexer": "ipython3",
   "version": "3.6.3"
  }
 },
 "nbformat": 4,
 "nbformat_minor": 2
}
